{
 "cells": [
  {
   "cell_type": "code",
   "execution_count": null,
   "metadata": {},
   "outputs": [],
   "source": [
    "%reset\n",
    "%matplotlib inline\n",
    "import matplotlib.pyplot as plt\n",
    "from feature_engineering import *\n",
    "\n",
    "#regression imports \n",
    "from sklearn.linear_model import LinearRegression, Ridge, Lasso, RidgeCV\n",
    "from sklearn.ensemble import RandomForestRegressor, BaggingRegressor, GradientBoostingRegressor, AdaBoostRegressor\n",
    "from sklearn.svm import SVR\n",
    "from sklearn.neighbors import KNeighborsRegressor\n",
    "from sklearn.neural_network import MLPRegressor\n",
    "\n",
    "\n",
    "#model selection\n",
    "from sklearn.model_selection import train_test_split,cross_validate\n",
    "\n",
    "# evaluation metrics\n",
    "from sklearn.metrics import mean_squared_log_error, mean_squared_error, r2_score, mean_absolute_error "
   ]
  },
  {
   "cell_type": "code",
   "execution_count": null,
   "metadata": {},
   "outputs": [],
   "source": [
    "# Read in data\n",
    "data = pd.read_csv('./data/data.csv')\n",
    "\n",
    "# what am I trying to predict \n",
    "predict_stations = True"
   ]
  },
  {
   "cell_type": "code",
   "execution_count": null,
   "metadata": {},
   "outputs": [],
   "source": [
    "data['day'] = data['date'].apply(lambda x : int(x.split('-')[-1]))\n",
    "train_df = data[data.day <= 19]\n",
    "test_df = data[data.day > 19]\n",
    "del data\n",
    "\n",
    "if predict_stations == False:\n",
    "    train_df = train_df.drop(['station', 'total_in'], axis = 1)\n",
    "    train_df = train_df.groupby(['date', 'time', 'member_type', \n",
    "                               'weather_description', 'temp_in_f', 'humidity_in_%', 'pressure',\n",
    "                               'visibility_in_miles', 'wind_direction', 'wind_speed_in_mph',\n",
    "                               'temp_in_f_delta', 'pressure_delta', 'humidity_delta',\n",
    "                               'visibility_delta', 'wind_speed_delta', 'day'], as_index = False)['total_out'].sum()"
   ]
  },
  {
   "cell_type": "code",
   "execution_count": null,
   "metadata": {},
   "outputs": [],
   "source": [
    "train_df['sum_ins_outs'] = train_df['total_out'] + train_df['total_in']\n",
    "a  = train_df.groupby(['station'], as_index = False)['sum_ins_outs'].agg('sum').sort_values(by = 'sum_ins_outs', \n",
    "                                                                                            ascending=False).reset_index()\n",
    "a['cum_sum'] = a['sum_ins_outs'].cumsum()\n",
    "a['percentage'] = a['cum_sum'] / max(a['cum_sum'])"
   ]
  },
  {
   "cell_type": "code",
   "execution_count": null,
   "metadata": {},
   "outputs": [],
   "source": [
    "a.head()"
   ]
  },
  {
   "cell_type": "code",
   "execution_count": null,
   "metadata": {},
   "outputs": [],
   "source": [
    "import matplotlib.pyplot as plt\n",
    "a.plot(kind = 'line',  use_index=True,  y = 'percentage')"
   ]
  }
 ],
 "metadata": {
  "kernelspec": {
   "display_name": "Python 3",
   "language": "python",
   "name": "python3"
  },
  "language_info": {
   "codemirror_mode": {
    "name": "ipython",
    "version": 3
   },
   "file_extension": ".py",
   "mimetype": "text/x-python",
   "name": "python",
   "nbconvert_exporter": "python",
   "pygments_lexer": "ipython3",
   "version": "3.6.8"
  }
 },
 "nbformat": 4,
 "nbformat_minor": 2
}
