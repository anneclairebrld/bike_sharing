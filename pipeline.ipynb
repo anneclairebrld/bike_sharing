{
 "cells": [
  {
   "cell_type": "code",
   "execution_count": 12,
   "metadata": {},
   "outputs": [
    {
     "name": "stdout",
     "output_type": "stream",
     "text": [
      "Once deleted, variables cannot be recovered. Proceed (y/[n])? y\n"
     ]
    }
   ],
   "source": [
    "%reset\n",
    "%matplotlib inline\n",
    "from feature_engineering import *\n",
    "\n",
    "#regression imports \n",
    "from sklearn.linear_model import LinearRegression, Ridge, Lasso, RidgeCV\n",
    "from sklearn.ensemble import RandomForestRegressor, BaggingRegressor, GradientBoostingRegressor, AdaBoostRegressor\n",
    "from sklearn.svm import SVR\n",
    "from sklearn.neighbors import KNeighborsRegressor\n",
    "from sklearn.neural_network import MLPRegressor\n",
    "\n",
    "\n",
    "#model selection\n",
    "from sklearn.model_selection import train_test_split,cross_validate\n",
    "\n",
    "# evaluation metrics\n",
    "from sklearn.metrics import mean_squared_log_error, mean_squared_error, r2_score, mean_absolute_error "
   ]
  },
  {
   "cell_type": "markdown",
   "metadata": {},
   "source": [
    "## Import data"
   ]
  },
  {
   "cell_type": "code",
   "execution_count": 13,
   "metadata": {},
   "outputs": [],
   "source": [
    "# Read in data\n",
    "data = pd.read_csv('./data/data.csv')\n",
    "\n",
    "# what am I trying to predict \n",
    "predict_stations = True"
   ]
  },
  {
   "cell_type": "code",
   "execution_count": 14,
   "metadata": {},
   "outputs": [],
   "source": [
    "data['day'] = data['date'].apply(lambda x : int(x.split('-')[-1]))\n",
    "train_df = data[data.day <= 19]\n",
    "test_df = data[data.day > 19]"
   ]
  },
  {
   "cell_type": "code",
   "execution_count": 15,
   "metadata": {},
   "outputs": [],
   "source": [
    "del data"
   ]
  },
  {
   "cell_type": "code",
   "execution_count": 16,
   "metadata": {},
   "outputs": [],
   "source": [
    "if predict_stations == False:\n",
    "    train_df = train_df.drop(['station', 'total_in'], axis = 1)\n",
    "    train_df = train_df.groupby(['date', 'time', 'member_type', \n",
    "                               'weather_description', 'temp_in_f', 'humidity_in_%', 'pressure',\n",
    "                               'visibility_in_miles', 'wind_direction', 'wind_speed_in_mph',\n",
    "                               'temp_in_f_delta', 'pressure_delta', 'humidity_delta',\n",
    "                               'visibility_delta', 'wind_speed_delta', 'day'], as_index = False)['total_out'].sum()"
   ]
  },
  {
   "cell_type": "code",
   "execution_count": 17,
   "metadata": {},
   "outputs": [
    {
     "data": {
      "text/plain": [
       "Index(['date', 'time', 'station', 'member_type', 'total_out', 'total_in',\n",
       "       'weather_description', 'temp_in_f', 'humidity_in_%', 'pressure',\n",
       "       'visibility_in_miles', 'wind_direction', 'wind_speed_in_mph',\n",
       "       'temp_in_f_delta', 'pressure_delta', 'humidity_delta',\n",
       "       'visibility_delta', 'wind_speed_delta', 'day'],\n",
       "      dtype='object')"
      ]
     },
     "execution_count": 17,
     "metadata": {},
     "output_type": "execute_result"
    }
   ],
   "source": [
    "train_df.columns"
   ]
  },
  {
   "cell_type": "code",
   "execution_count": 18,
   "metadata": {},
   "outputs": [
    {
     "data": {
      "text/html": [
       "<div>\n",
       "<style scoped>\n",
       "    .dataframe tbody tr th:only-of-type {\n",
       "        vertical-align: middle;\n",
       "    }\n",
       "\n",
       "    .dataframe tbody tr th {\n",
       "        vertical-align: top;\n",
       "    }\n",
       "\n",
       "    .dataframe thead th {\n",
       "        text-align: right;\n",
       "    }\n",
       "</style>\n",
       "<table border=\"1\" class=\"dataframe\">\n",
       "  <thead>\n",
       "    <tr style=\"text-align: right;\">\n",
       "      <th></th>\n",
       "      <th>date</th>\n",
       "      <th>time</th>\n",
       "      <th>station</th>\n",
       "      <th>member_type</th>\n",
       "      <th>total_out</th>\n",
       "      <th>total_in</th>\n",
       "      <th>weather_description</th>\n",
       "      <th>temp_in_f</th>\n",
       "      <th>humidity_in_%</th>\n",
       "      <th>pressure</th>\n",
       "      <th>visibility_in_miles</th>\n",
       "      <th>wind_direction</th>\n",
       "      <th>wind_speed_in_mph</th>\n",
       "      <th>temp_in_f_delta</th>\n",
       "      <th>pressure_delta</th>\n",
       "      <th>humidity_delta</th>\n",
       "      <th>visibility_delta</th>\n",
       "      <th>wind_speed_delta</th>\n",
       "      <th>day</th>\n",
       "    </tr>\n",
       "  </thead>\n",
       "  <tbody>\n",
       "    <tr>\n",
       "      <th>0</th>\n",
       "      <td>2018-01-01</td>\n",
       "      <td>00:00:00</td>\n",
       "      <td>31019</td>\n",
       "      <td>Member</td>\n",
       "      <td>1.0</td>\n",
       "      <td>0.0</td>\n",
       "      <td>Clear</td>\n",
       "      <td>11.0</td>\n",
       "      <td>75.0</td>\n",
       "      <td>30.0</td>\n",
       "      <td>10.0</td>\n",
       "      <td>S</td>\n",
       "      <td>2.7</td>\n",
       "      <td>-49.0</td>\n",
       "      <td>1.0</td>\n",
       "      <td>-7.0</td>\n",
       "      <td>0.0</td>\n",
       "      <td>-8.3</td>\n",
       "      <td>1</td>\n",
       "    </tr>\n",
       "    <tr>\n",
       "      <th>1</th>\n",
       "      <td>2018-01-01</td>\n",
       "      <td>00:00:00</td>\n",
       "      <td>31041</td>\n",
       "      <td>Casual</td>\n",
       "      <td>3.0</td>\n",
       "      <td>0.0</td>\n",
       "      <td>Clear</td>\n",
       "      <td>11.0</td>\n",
       "      <td>75.0</td>\n",
       "      <td>30.0</td>\n",
       "      <td>10.0</td>\n",
       "      <td>S</td>\n",
       "      <td>2.7</td>\n",
       "      <td>-49.0</td>\n",
       "      <td>1.0</td>\n",
       "      <td>-7.0</td>\n",
       "      <td>0.0</td>\n",
       "      <td>-8.3</td>\n",
       "      <td>1</td>\n",
       "    </tr>\n",
       "    <tr>\n",
       "      <th>2</th>\n",
       "      <td>2018-01-01</td>\n",
       "      <td>00:00:00</td>\n",
       "      <td>31041</td>\n",
       "      <td>Member</td>\n",
       "      <td>1.0</td>\n",
       "      <td>0.0</td>\n",
       "      <td>Clear</td>\n",
       "      <td>11.0</td>\n",
       "      <td>75.0</td>\n",
       "      <td>30.0</td>\n",
       "      <td>10.0</td>\n",
       "      <td>S</td>\n",
       "      <td>2.7</td>\n",
       "      <td>-49.0</td>\n",
       "      <td>1.0</td>\n",
       "      <td>-7.0</td>\n",
       "      <td>0.0</td>\n",
       "      <td>-8.3</td>\n",
       "      <td>1</td>\n",
       "    </tr>\n",
       "    <tr>\n",
       "      <th>3</th>\n",
       "      <td>2018-01-01</td>\n",
       "      <td>00:00:00</td>\n",
       "      <td>31042</td>\n",
       "      <td>Member</td>\n",
       "      <td>5.0</td>\n",
       "      <td>0.0</td>\n",
       "      <td>Clear</td>\n",
       "      <td>11.0</td>\n",
       "      <td>75.0</td>\n",
       "      <td>30.0</td>\n",
       "      <td>10.0</td>\n",
       "      <td>S</td>\n",
       "      <td>2.7</td>\n",
       "      <td>-49.0</td>\n",
       "      <td>1.0</td>\n",
       "      <td>-7.0</td>\n",
       "      <td>0.0</td>\n",
       "      <td>-8.3</td>\n",
       "      <td>1</td>\n",
       "    </tr>\n",
       "    <tr>\n",
       "      <th>4</th>\n",
       "      <td>2018-01-01</td>\n",
       "      <td>00:00:00</td>\n",
       "      <td>31101</td>\n",
       "      <td>Member</td>\n",
       "      <td>1.0</td>\n",
       "      <td>1.0</td>\n",
       "      <td>Clear</td>\n",
       "      <td>11.0</td>\n",
       "      <td>75.0</td>\n",
       "      <td>30.0</td>\n",
       "      <td>10.0</td>\n",
       "      <td>S</td>\n",
       "      <td>2.7</td>\n",
       "      <td>-49.0</td>\n",
       "      <td>1.0</td>\n",
       "      <td>-7.0</td>\n",
       "      <td>0.0</td>\n",
       "      <td>-8.3</td>\n",
       "      <td>1</td>\n",
       "    </tr>\n",
       "  </tbody>\n",
       "</table>\n",
       "</div>"
      ],
      "text/plain": [
       "         date      time  station member_type  total_out  total_in  \\\n",
       "0  2018-01-01  00:00:00    31019      Member        1.0       0.0   \n",
       "1  2018-01-01  00:00:00    31041      Casual        3.0       0.0   \n",
       "2  2018-01-01  00:00:00    31041      Member        1.0       0.0   \n",
       "3  2018-01-01  00:00:00    31042      Member        5.0       0.0   \n",
       "4  2018-01-01  00:00:00    31101      Member        1.0       1.0   \n",
       "\n",
       "  weather_description  temp_in_f  humidity_in_%  pressure  \\\n",
       "0               Clear       11.0           75.0      30.0   \n",
       "1               Clear       11.0           75.0      30.0   \n",
       "2               Clear       11.0           75.0      30.0   \n",
       "3               Clear       11.0           75.0      30.0   \n",
       "4               Clear       11.0           75.0      30.0   \n",
       "\n",
       "   visibility_in_miles wind_direction  wind_speed_in_mph  temp_in_f_delta  \\\n",
       "0                 10.0              S                2.7            -49.0   \n",
       "1                 10.0              S                2.7            -49.0   \n",
       "2                 10.0              S                2.7            -49.0   \n",
       "3                 10.0              S                2.7            -49.0   \n",
       "4                 10.0              S                2.7            -49.0   \n",
       "\n",
       "   pressure_delta  humidity_delta  visibility_delta  wind_speed_delta  day  \n",
       "0             1.0            -7.0               0.0              -8.3    1  \n",
       "1             1.0            -7.0               0.0              -8.3    1  \n",
       "2             1.0            -7.0               0.0              -8.3    1  \n",
       "3             1.0            -7.0               0.0              -8.3    1  \n",
       "4             1.0            -7.0               0.0              -8.3    1  "
      ]
     },
     "execution_count": 18,
     "metadata": {},
     "output_type": "execute_result"
    }
   ],
   "source": [
    "train_df.head()"
   ]
  },
  {
   "cell_type": "code",
   "execution_count": 19,
   "metadata": {},
   "outputs": [
    {
     "data": {
      "text/plain": [
       "189438"
      ]
     },
     "execution_count": 19,
     "metadata": {},
     "output_type": "execute_result"
    }
   ],
   "source": [
    "train_df.visibility_in_miles.value_counts().values[1:].sum()"
   ]
  },
  {
   "cell_type": "markdown",
   "metadata": {},
   "source": [
    "## Feature engineering"
   ]
  },
  {
   "cell_type": "code",
   "execution_count": null,
   "metadata": {
    "scrolled": false
   },
   "outputs": [],
   "source": [
    "# do feature engineering \n",
    "train_df = holiday(train_df)\n",
    "train_df = season(train_df)\n",
    "train_df = date_feature(train_df)\n",
    "train_df = member_type(train_df)\n",
    "train_df = weather(train_df)\n",
    "train_df = wind_direction(train_df)\n",
    "if predict_stations == True:\n",
    "    train_df = top_i_station_onehot(train_df, top = 25)\n",
    "    \n",
    "    # keep only data for the top stations \n",
    "    train_df = train_df[train_df['other'] == 0]\n",
    "    \n",
    "train_df = hour_features(train_df)\n",
    "#train_df = humidity_feature(train_df)\n",
    "train_df = visibility_feature(train_df)\n",
    "train_df = heat_index(train_df)\n",
    "train_df = wind_chill(train_df)\n",
    "\n",
    "#test_df = holiday(test_df)\n",
    "#test_df = season(test_df)\n",
    "#test_df = date_feature(test_df)\n",
    "#test_df = member_type(test_df)\n",
    "#test_df = weather(test_df)\n",
    "#test_df = wind_direction(test_df)"
   ]
  },
  {
   "cell_type": "code",
   "execution_count": null,
   "metadata": {},
   "outputs": [],
   "source": [
    "train_df.columns"
   ]
  },
  {
   "cell_type": "code",
   "execution_count": null,
   "metadata": {},
   "outputs": [],
   "source": [
    "## need to do something better with this\n",
    "train_df['time'] =  train_df['time'].apply(lambda x: int(x.split(':')[0]))"
   ]
  },
  {
   "cell_type": "markdown",
   "metadata": {},
   "source": [
    "## Models"
   ]
  },
  {
   "cell_type": "code",
   "execution_count": null,
   "metadata": {},
   "outputs": [],
   "source": [
    "# Splitting train data into cross validation elements.\n",
    "# Right now we predict total_in Problem label flow not correct \n",
    "\n",
    "drop_features = [ 'total_in', 'station', 'total_out', 'day', 'pressure_delta', 'pressure', \n",
    "                 'visibility_delta', 'Casual', 'sum_ins_outs', 'other']\n",
    "\n",
    "models = [RandomForestRegressor(max_depth = 5, n_estimators = 100), AdaBoostRegressor(), \n",
    "          BaggingRegressor(), KNeighborsRegressor()]#  Lasso(alpha = 0.1, max_iter=100)] #SVR() MLPRegressor(random_state=0, activation='relu', hidden_layer_sizes=(2,))\n",
    "model_names = ['RandomForest', 'AdaBoost', 'Bagging', 'Kneighnours'] #'Lasso'] # SVR 'Neural Network', \n",
    "\n",
    "\n",
    "if predict_stations == False:\n",
    "    drop_features = [ 'total_out', 'day', 'visibility_delta', 'Casual'] \n",
    "    models = [RandomForestRegressor(bootstrap=True,\n",
    "            max_depth=10, n_estimators=100, random_state=42), AdaBoostRegressor(), \n",
    "          BaggingRegressor(), KNeighborsRegressor()] #SVR(), , Lasso(alpha = 0.1, max_iter=100)\n",
    "    model_names = ['RandomForest', 'AdaBoost', 'Bagging', 'Kneighnours'] # SVR\n",
    "\n",
    "X_train, X_test, y_train, y_test = train_test_split(train_df.loc[train_df.Member == 1 ].drop(drop_features, axis = 1),\n",
    "                                                    train_df.loc[train_df.Member == 1 , 'sum_ins_outs'], test_size = 0.20, random_state = 42)\n",
    "\n",
    "# SVR removed for now cause f**\n",
    "\n",
    "log_rmse = []\n",
    "mse = []\n",
    "r2 = []\n",
    "mae = []\n",
    "d = {}\n",
    "for model in range (len(models)):\n",
    "    print('Running model: ', model_names[model])\n",
    "    clf = models[model]\n",
    "    clf.fit(X_train, y_train)\n",
    "    print('model fitted..')\n",
    "    test_pred = clf.predict(X_test)\n",
    "    print('predictions done..')\n",
    "    model_log_rmse = np.sqrt(mean_squared_log_error(list(map(lambda x: x + 0.1, test_pred)), y_test))\n",
    "    mse.append(mean_squared_error(test_pred, y_test))\n",
    "    r2.append(r2_score(test_pred, y_test))\n",
    "    mae.append(mean_absolute_error(test_pred, y_test))\n",
    "    log_rmse.append(model_log_rmse)\n",
    "    print(model_log_rmse)\n",
    "\n",
    "d = {'Modelling Algo':model_names,'Log_RMSE':log_rmse, 'MSE':mse, 'R2':r2, 'MAE': mae} \n",
    "\n",
    "rmse_df = pd.DataFrame(d)\n",
    "rmse_df"
   ]
  },
  {
   "cell_type": "markdown",
   "metadata": {},
   "source": [
    "#### PREDICTIONS INCLUDING THE STATIONS \n",
    "Predicting sum ins and outs "
   ]
  },
  {
   "cell_type": "code",
   "execution_count": null,
   "metadata": {},
   "outputs": [],
   "source": [
    "train_df.shape"
   ]
  }
 ],
 "metadata": {
  "kernelspec": {
   "display_name": "Python 3",
   "language": "python",
   "name": "python3"
  },
  "language_info": {
   "codemirror_mode": {
    "name": "ipython",
    "version": 3
   },
   "file_extension": ".py",
   "mimetype": "text/x-python",
   "name": "python",
   "nbconvert_exporter": "python",
   "pygments_lexer": "ipython3",
   "version": "3.6.8"
  }
 },
 "nbformat": 4,
 "nbformat_minor": 2
}
