{
 "cells": [
  {
   "cell_type": "code",
   "execution_count": 46,
   "metadata": {},
   "outputs": [
    {
     "name": "stdout",
     "output_type": "stream",
     "text": [
      "Once deleted, variables cannot be recovered. Proceed (y/[n])? y\n"
     ]
    }
   ],
   "source": [
    "%reset\n",
    "%matplotlib inline\n",
    "from feature_engineering import *\n",
    "\n",
    "#regression imports \n",
    "from sklearn.linear_model import LinearRegression, Ridge, Lasso, RidgeCV\n",
    "from sklearn.ensemble import RandomForestRegressor, BaggingRegressor, GradientBoostingRegressor, AdaBoostRegressor\n",
    "from sklearn.svm import SVR\n",
    "from sklearn.neighbors import KNeighborsRegressor\n",
    "from sklearn.neural_network import MLPRegressor\n",
    "\n",
    "#model selection\n",
    "from sklearn.model_selection import train_test_split, cross_validate, GridSearchCV\n",
    "\n",
    "# evaluation metrics\n",
    "from sklearn.metrics import mean_squared_log_error, mean_squared_error, r2_score, mean_absolute_error, make_scorer"
   ]
  },
  {
   "cell_type": "markdown",
   "metadata": {},
   "source": [
    "## Import data"
   ]
  },
  {
   "cell_type": "code",
   "execution_count": 47,
   "metadata": {},
   "outputs": [],
   "source": [
    "# Read in data\n",
    "data = pd.read_csv('./data/data.csv')\n",
    "\n",
    "# what am I trying to predict \n",
    "predict_stations = False"
   ]
  },
  {
   "cell_type": "code",
   "execution_count": 48,
   "metadata": {},
   "outputs": [],
   "source": [
    "data['day'] = data['date'].apply(lambda x : int(x.split('-')[-1]))\n",
    "train_df = data[data.day <= 19]\n",
    "test_df = data[data.day == 20]"
   ]
  },
  {
   "cell_type": "code",
   "execution_count": 49,
   "metadata": {},
   "outputs": [],
   "source": [
    "del data"
   ]
  },
  {
   "cell_type": "code",
   "execution_count": 50,
   "metadata": {},
   "outputs": [],
   "source": [
    "if predict_stations == False:\n",
    "    train_df = train_df.drop(['station', 'total_in'], axis = 1)\n",
    "    train_df = train_df.groupby(['date', 'time', 'member_type', \n",
    "                               'weather_description', 'temp_in_f', 'humidity_in_%', 'pressure',\n",
    "                               'visibility_in_miles', 'wind_direction', 'wind_speed_in_mph',\n",
    "                               'temp_in_f_delta', 'pressure_delta', 'humidity_delta',\n",
    "                               'visibility_delta', 'wind_speed_delta', 'day'], as_index = False)['total_out'].sum()\n",
    "    \n",
    "    test_df = test_df.drop(['station', 'total_in'], axis = 1)\n",
    "    test_df = test_df.groupby(['date', 'time', 'member_type', \n",
    "                               'weather_description', 'temp_in_f', 'humidity_in_%', 'pressure',\n",
    "                               'visibility_in_miles', 'wind_direction', 'wind_speed_in_mph',\n",
    "                               'temp_in_f_delta', 'pressure_delta', 'humidity_delta',\n",
    "                               'visibility_delta', 'wind_speed_delta', 'day'], as_index = False)['total_out'].sum()"
   ]
  },
  {
   "cell_type": "code",
   "execution_count": 51,
   "metadata": {},
   "outputs": [
    {
     "data": {
      "text/plain": [
       "Index(['date', 'time', 'member_type', 'weather_description', 'temp_in_f',\n",
       "       'humidity_in_%', 'pressure', 'visibility_in_miles', 'wind_direction',\n",
       "       'wind_speed_in_mph', 'temp_in_f_delta', 'pressure_delta',\n",
       "       'humidity_delta', 'visibility_delta', 'wind_speed_delta', 'day',\n",
       "       'total_out'],\n",
       "      dtype='object')"
      ]
     },
     "execution_count": 51,
     "metadata": {},
     "output_type": "execute_result"
    }
   ],
   "source": [
    "train_df.columns"
   ]
  },
  {
   "cell_type": "code",
   "execution_count": 52,
   "metadata": {},
   "outputs": [
    {
     "data": {
      "text/html": [
       "<div>\n",
       "<style scoped>\n",
       "    .dataframe tbody tr th:only-of-type {\n",
       "        vertical-align: middle;\n",
       "    }\n",
       "\n",
       "    .dataframe tbody tr th {\n",
       "        vertical-align: top;\n",
       "    }\n",
       "\n",
       "    .dataframe thead th {\n",
       "        text-align: right;\n",
       "    }\n",
       "</style>\n",
       "<table border=\"1\" class=\"dataframe\">\n",
       "  <thead>\n",
       "    <tr style=\"text-align: right;\">\n",
       "      <th></th>\n",
       "      <th>date</th>\n",
       "      <th>time</th>\n",
       "      <th>member_type</th>\n",
       "      <th>weather_description</th>\n",
       "      <th>temp_in_f</th>\n",
       "      <th>humidity_in_%</th>\n",
       "      <th>pressure</th>\n",
       "      <th>visibility_in_miles</th>\n",
       "      <th>wind_direction</th>\n",
       "      <th>wind_speed_in_mph</th>\n",
       "      <th>temp_in_f_delta</th>\n",
       "      <th>pressure_delta</th>\n",
       "      <th>humidity_delta</th>\n",
       "      <th>visibility_delta</th>\n",
       "      <th>wind_speed_delta</th>\n",
       "      <th>day</th>\n",
       "      <th>total_out</th>\n",
       "    </tr>\n",
       "  </thead>\n",
       "  <tbody>\n",
       "    <tr>\n",
       "      <th>0</th>\n",
       "      <td>2018-01-01</td>\n",
       "      <td>00:00:00</td>\n",
       "      <td>Casual</td>\n",
       "      <td>Clear</td>\n",
       "      <td>11.0</td>\n",
       "      <td>75.0</td>\n",
       "      <td>30.0</td>\n",
       "      <td>10.0</td>\n",
       "      <td>S</td>\n",
       "      <td>2.7</td>\n",
       "      <td>-49.0</td>\n",
       "      <td>1.0</td>\n",
       "      <td>-7.0</td>\n",
       "      <td>0.0</td>\n",
       "      <td>-8.3</td>\n",
       "      <td>1</td>\n",
       "      <td>6.0</td>\n",
       "    </tr>\n",
       "    <tr>\n",
       "      <th>1</th>\n",
       "      <td>2018-01-01</td>\n",
       "      <td>00:00:00</td>\n",
       "      <td>Member</td>\n",
       "      <td>Clear</td>\n",
       "      <td>11.0</td>\n",
       "      <td>75.0</td>\n",
       "      <td>30.0</td>\n",
       "      <td>10.0</td>\n",
       "      <td>S</td>\n",
       "      <td>2.7</td>\n",
       "      <td>-49.0</td>\n",
       "      <td>1.0</td>\n",
       "      <td>-7.0</td>\n",
       "      <td>0.0</td>\n",
       "      <td>-8.3</td>\n",
       "      <td>1</td>\n",
       "      <td>28.0</td>\n",
       "    </tr>\n",
       "    <tr>\n",
       "      <th>2</th>\n",
       "      <td>2018-01-01</td>\n",
       "      <td>01:00:00</td>\n",
       "      <td>Casual</td>\n",
       "      <td>Clear</td>\n",
       "      <td>10.0</td>\n",
       "      <td>77.0</td>\n",
       "      <td>30.0</td>\n",
       "      <td>10.0</td>\n",
       "      <td>N</td>\n",
       "      <td>1.0</td>\n",
       "      <td>-1.0</td>\n",
       "      <td>0.0</td>\n",
       "      <td>2.0</td>\n",
       "      <td>0.0</td>\n",
       "      <td>-1.7</td>\n",
       "      <td>1</td>\n",
       "      <td>11.0</td>\n",
       "    </tr>\n",
       "    <tr>\n",
       "      <th>3</th>\n",
       "      <td>2018-01-01</td>\n",
       "      <td>01:00:00</td>\n",
       "      <td>Member</td>\n",
       "      <td>Clear</td>\n",
       "      <td>10.0</td>\n",
       "      <td>77.0</td>\n",
       "      <td>30.0</td>\n",
       "      <td>10.0</td>\n",
       "      <td>N</td>\n",
       "      <td>1.0</td>\n",
       "      <td>-1.0</td>\n",
       "      <td>0.0</td>\n",
       "      <td>2.0</td>\n",
       "      <td>0.0</td>\n",
       "      <td>-1.7</td>\n",
       "      <td>1</td>\n",
       "      <td>38.0</td>\n",
       "    </tr>\n",
       "    <tr>\n",
       "      <th>4</th>\n",
       "      <td>2018-01-01</td>\n",
       "      <td>02:00:00</td>\n",
       "      <td>Casual</td>\n",
       "      <td>Clear</td>\n",
       "      <td>10.0</td>\n",
       "      <td>72.0</td>\n",
       "      <td>30.0</td>\n",
       "      <td>10.0</td>\n",
       "      <td>N</td>\n",
       "      <td>1.0</td>\n",
       "      <td>0.0</td>\n",
       "      <td>0.0</td>\n",
       "      <td>-5.0</td>\n",
       "      <td>0.0</td>\n",
       "      <td>0.0</td>\n",
       "      <td>1</td>\n",
       "      <td>7.0</td>\n",
       "    </tr>\n",
       "  </tbody>\n",
       "</table>\n",
       "</div>"
      ],
      "text/plain": [
       "         date      time member_type weather_description  temp_in_f  \\\n",
       "0  2018-01-01  00:00:00      Casual               Clear       11.0   \n",
       "1  2018-01-01  00:00:00      Member               Clear       11.0   \n",
       "2  2018-01-01  01:00:00      Casual               Clear       10.0   \n",
       "3  2018-01-01  01:00:00      Member               Clear       10.0   \n",
       "4  2018-01-01  02:00:00      Casual               Clear       10.0   \n",
       "\n",
       "   humidity_in_%  pressure  visibility_in_miles wind_direction  \\\n",
       "0           75.0      30.0                 10.0              S   \n",
       "1           75.0      30.0                 10.0              S   \n",
       "2           77.0      30.0                 10.0              N   \n",
       "3           77.0      30.0                 10.0              N   \n",
       "4           72.0      30.0                 10.0              N   \n",
       "\n",
       "   wind_speed_in_mph  temp_in_f_delta  pressure_delta  humidity_delta  \\\n",
       "0                2.7            -49.0             1.0            -7.0   \n",
       "1                2.7            -49.0             1.0            -7.0   \n",
       "2                1.0             -1.0             0.0             2.0   \n",
       "3                1.0             -1.0             0.0             2.0   \n",
       "4                1.0              0.0             0.0            -5.0   \n",
       "\n",
       "   visibility_delta  wind_speed_delta  day  total_out  \n",
       "0               0.0              -8.3    1        6.0  \n",
       "1               0.0              -8.3    1       28.0  \n",
       "2               0.0              -1.7    1       11.0  \n",
       "3               0.0              -1.7    1       38.0  \n",
       "4               0.0               0.0    1        7.0  "
      ]
     },
     "execution_count": 52,
     "metadata": {},
     "output_type": "execute_result"
    }
   ],
   "source": [
    "train_df.head()"
   ]
  },
  {
   "cell_type": "code",
   "execution_count": 53,
   "metadata": {},
   "outputs": [
    {
     "data": {
      "text/plain": [
       "2145"
      ]
     },
     "execution_count": 53,
     "metadata": {},
     "output_type": "execute_result"
    }
   ],
   "source": [
    "train_df.visibility_in_miles.value_counts().values[1:].sum()"
   ]
  },
  {
   "cell_type": "markdown",
   "metadata": {},
   "source": [
    "## Feature engineering"
   ]
  },
  {
   "cell_type": "code",
   "execution_count": 54,
   "metadata": {
    "scrolled": false
   },
   "outputs": [],
   "source": [
    "# do feature engineering \n",
    "train_df = holiday(train_df)\n",
    "train_df = season(train_df)\n",
    "train_df = date_feature(train_df)\n",
    "train_df = member_type(train_df)\n",
    "train_df = weather(train_df)     # i think these two features mighht be making the wjole tjing worse\n",
    "train_df = wind_direction(train_df)\n",
    "if predict_stations == True:\n",
    "    train_df = top_i_station_onehot(train_df, top = 25)\n",
    "    \n",
    "    # keep only data for the top stations \n",
    "    train_df = train_df[train_df['other'] == 0]\n",
    "    \n",
    "train_df = hour_features(train_df)\n",
    "#train_df = humidity_feature(train_df)\n",
    "#train_df = visibility_feature(train_df)\n",
    "train_df = heat_index(train_df)\n",
    "train_df = wind_chill(train_df)"
   ]
  },
  {
   "cell_type": "code",
   "execution_count": 55,
   "metadata": {},
   "outputs": [],
   "source": [
    "test_df = holiday(test_df)\n",
    "test_df = season(test_df)\n",
    "test_df = date_feature(test_df)\n",
    "test_df = member_type(test_df)\n",
    "test_df = weather(test_df)     # i think these two features mighht be making the wjole tjing worse\n",
    "test_df = wind_direction(test_df)\n",
    "if predict_stations == True:\n",
    "    test_df = top_i_station_onehot(test_df, top = 25)\n",
    "    \n",
    "    # keep only data for the top stations \n",
    "    test_df = test_df[test_df['other'] == 0]\n",
    "    \n",
    "test_df = hour_features(test_df)\n",
    "#test_df = humidity_feature(test_df)\n",
    "#test_df = visibility_feature(test_df)\n",
    "test_df = heat_index(test_df)\n",
    "test_df = wind_chill(test_df)\n"
   ]
  },
  {
   "cell_type": "code",
   "execution_count": 56,
   "metadata": {},
   "outputs": [
    {
     "data": {
      "text/plain": [
       "Index(['time', 'temp_in_f', 'humidity_in_%', 'pressure', 'visibility_in_miles',\n",
       "       'wind_speed_in_mph', 'temp_in_f_delta', 'pressure_delta',\n",
       "       'humidity_delta', 'visibility_delta', 'wind_speed_delta', 'day',\n",
       "       'total_out', 'holiday', 'month', 'autumn', 'spring', 'summer', 'winter',\n",
       "       'weekday', 'Casual', 'Member', 'thunderstorm', 'cloudy', 'drizzle',\n",
       "       'fog', 'haze', 'rain', 'snow', 'clear', 'N', 'E', 'W', 'S', 'day_time',\n",
       "       'evening_peak', 'morning_peak', 'night_time', 'heat_index',\n",
       "       'wind_chill'],\n",
       "      dtype='object')"
      ]
     },
     "execution_count": 56,
     "metadata": {},
     "output_type": "execute_result"
    }
   ],
   "source": [
    "train_df.columns"
   ]
  },
  {
   "cell_type": "code",
   "execution_count": 57,
   "metadata": {},
   "outputs": [],
   "source": [
    "## need to do something better with this\n",
    "train_df['time'] =  train_df['time'].apply(lambda x: int(x.split(':')[0]))\n",
    "## need to do something better with this\n",
    "test_df['time'] =  test_df['time'].apply(lambda x: int(x.split(':')[0]))"
   ]
  },
  {
   "cell_type": "markdown",
   "metadata": {},
   "source": [
    "## Models"
   ]
  },
  {
   "cell_type": "code",
   "execution_count": 67,
   "metadata": {},
   "outputs": [
    {
     "name": "stdout",
     "output_type": "stream",
     "text": [
      "Running model:  RandomForest\n",
      "model fitted..\n",
      "predictions done..\n",
      "0.45600269772713653\n",
      "Running model:  AdaBoost\n",
      "model fitted..\n",
      "predictions done..\n",
      "0.8682996168476448\n",
      "Running model:  Bagging\n",
      "model fitted..\n",
      "predictions done..\n",
      "0.40884983052021545\n",
      "Running model:  Kneighnours\n",
      "model fitted..\n",
      "predictions done..\n",
      "1.1431683351613318\n",
      "Running model:  Gradient_boosting\n",
      "model fitted..\n",
      "predictions done..\n",
      "0.3697900847919717\n",
      "Running model:  Ridge\n",
      "model fitted..\n",
      "predictions done..\n",
      "0.8643686668330088\n"
     ]
    },
    {
     "data": {
      "text/html": [
       "<div>\n",
       "<style scoped>\n",
       "    .dataframe tbody tr th:only-of-type {\n",
       "        vertical-align: middle;\n",
       "    }\n",
       "\n",
       "    .dataframe tbody tr th {\n",
       "        vertical-align: top;\n",
       "    }\n",
       "\n",
       "    .dataframe thead th {\n",
       "        text-align: right;\n",
       "    }\n",
       "</style>\n",
       "<table border=\"1\" class=\"dataframe\">\n",
       "  <thead>\n",
       "    <tr style=\"text-align: right;\">\n",
       "      <th></th>\n",
       "      <th>Log_RMSE</th>\n",
       "      <th>MAE</th>\n",
       "      <th>MSE</th>\n",
       "      <th>Modelling Algo</th>\n",
       "      <th>R2</th>\n",
       "    </tr>\n",
       "  </thead>\n",
       "  <tbody>\n",
       "    <tr>\n",
       "      <th>0</th>\n",
       "      <td>0.456003</td>\n",
       "      <td>47.277291</td>\n",
       "      <td>8093.210447</td>\n",
       "      <td>RandomForest</td>\n",
       "      <td>0.852304</td>\n",
       "    </tr>\n",
       "    <tr>\n",
       "      <th>1</th>\n",
       "      <td>0.868300</td>\n",
       "      <td>114.117101</td>\n",
       "      <td>40436.302706</td>\n",
       "      <td>AdaBoost</td>\n",
       "      <td>-0.697245</td>\n",
       "    </tr>\n",
       "    <tr>\n",
       "      <th>2</th>\n",
       "      <td>0.408850</td>\n",
       "      <td>38.868163</td>\n",
       "      <td>6344.151608</td>\n",
       "      <td>Bagging</td>\n",
       "      <td>0.902595</td>\n",
       "    </tr>\n",
       "    <tr>\n",
       "      <th>3</th>\n",
       "      <td>1.143168</td>\n",
       "      <td>135.556024</td>\n",
       "      <td>52211.120846</td>\n",
       "      <td>Kneighnours</td>\n",
       "      <td>-0.892652</td>\n",
       "    </tr>\n",
       "    <tr>\n",
       "      <th>4</th>\n",
       "      <td>0.369790</td>\n",
       "      <td>37.855281</td>\n",
       "      <td>5342.263025</td>\n",
       "      <td>Gradient_boosting</td>\n",
       "      <td>0.914360</td>\n",
       "    </tr>\n",
       "    <tr>\n",
       "      <th>5</th>\n",
       "      <td>0.864369</td>\n",
       "      <td>116.052795</td>\n",
       "      <td>48040.593658</td>\n",
       "      <td>Ridge</td>\n",
       "      <td>0.053808</td>\n",
       "    </tr>\n",
       "  </tbody>\n",
       "</table>\n",
       "</div>"
      ],
      "text/plain": [
       "   Log_RMSE         MAE           MSE     Modelling Algo        R2\n",
       "0  0.456003   47.277291   8093.210447       RandomForest  0.852304\n",
       "1  0.868300  114.117101  40436.302706           AdaBoost -0.697245\n",
       "2  0.408850   38.868163   6344.151608            Bagging  0.902595\n",
       "3  1.143168  135.556024  52211.120846        Kneighnours -0.892652\n",
       "4  0.369790   37.855281   5342.263025  Gradient_boosting  0.914360\n",
       "5  0.864369  116.052795  48040.593658              Ridge  0.053808"
      ]
     },
     "execution_count": 67,
     "metadata": {},
     "output_type": "execute_result"
    }
   ],
   "source": [
    "# Splitting train data into cross validation elements.\n",
    "# Right now we predict total_in Problem label flow not correct \n",
    "\n",
    "if predict_stations == True:\n",
    "    drop_features = [ 'total_in', 'station', 'total_out', 'pressure_delta', 'pressure', \n",
    "                     'visibility_delta', 'Casual', 'sum_ins_outs', 'other']\n",
    "\n",
    "    models = [RandomForestRegressor(max_depth = 5, n_estimators = 100), AdaBoostRegressor(), \n",
    "              BaggingRegressor(), KNeighborsRegressor(), Lasso(alpha = 0.1, max_iter=100)] #SVR() MLPRegressor(random_state=0, activation='relu', hidden_layer_sizes=(2,))\n",
    "    model_names = ['RandomForest', 'AdaBoost', 'Bagging', 'Kneighnours', 'Lasso'] # SVR 'Neural Network', \n",
    "\n",
    "\n",
    "if predict_stations == False:\n",
    "    drop_features = [ 'total_out', 'day', 'visibility_delta', 'Casual','humidity_in_%', 'pressure', 'visibility_in_miles',\n",
    "       'wind_speed_in_mph', 'temp_in_f_delta', 'pressure_delta',\n",
    "       'humidity_delta', 'visibility_delta', 'wind_speed_delta'] \n",
    "    models = [RandomForestRegressor(bootstrap=True, max_depth=10, n_estimators=100, random_state=42), \n",
    "              AdaBoostRegressor(random_state=42, n_estimators=100, learning_rate= 0.001), \n",
    "          BaggingRegressor(), KNeighborsRegressor(n_neighbors=3), \n",
    "              GradientBoostingRegressor(n_estimators = 5000, alpha = 0.01), \n",
    "             Ridge()] #SVR(), , Lasso(alpha = 0.1, max_iter=100)\n",
    "    model_names = ['RandomForest', 'AdaBoost', 'Bagging', 'Kneighnours', 'Gradient_boosting', 'Ridge'] # SVR\n",
    "\n",
    "X_train, X_test, y_train, y_test = train_test_split(train_df.drop(drop_features, axis = 1),\n",
    "                                                    np.log1p(train_df['total_out']), test_size = 0.10, random_state = 42)\n",
    "\n",
    "# SVR removed for now cause f**\n",
    "\n",
    "log_rmse = []\n",
    "mse = []\n",
    "r2 = []\n",
    "mae = []\n",
    "d = {}\n",
    "for model in range (len(models)):\n",
    "    print('Running model: ', model_names[model])\n",
    "    clf = models[model]\n",
    "    clf.fit(X_train, y_train)\n",
    "    print('model fitted..')\n",
    "    test_pred = clf.predict(X_test)\n",
    "    print('predictions done..')\n",
    "    model_log_rmse = np.sqrt(mean_squared_log_error(np.exp(test_pred), np.exp(y_test)))\n",
    "    mse.append(mean_squared_error(np.exp(test_pred), np.exp(y_test)))\n",
    "    r2.append(r2_score(np.exp(test_pred), np.exp(y_test)))\n",
    "    mae.append(mean_absolute_error(np.exp(test_pred), np.exp(y_test)))\n",
    "    log_rmse.append(model_log_rmse)\n",
    "    print(model_log_rmse)\n",
    "\n",
    "d = {'Modelling Algo':model_names,'Log_RMSE':log_rmse, 'MSE':mse, 'R2':r2, 'MAE': mae} \n",
    "\n",
    "rmse_df = pd.DataFrame(d)\n",
    "rmse_df"
   ]
  },
  {
   "cell_type": "code",
   "execution_count": 60,
   "metadata": {},
   "outputs": [
    {
     "data": {
      "text/plain": [
       "Index(['time', 'temp_in_f', 'holiday', 'month', 'autumn', 'spring', 'summer',\n",
       "       'winter', 'weekday', 'Member', 'thunderstorm', 'cloudy', 'drizzle',\n",
       "       'fog', 'haze', 'rain', 'snow', 'clear', 'N', 'E', 'W', 'S', 'day_time',\n",
       "       'evening_peak', 'morning_peak', 'night_time', 'heat_index',\n",
       "       'wind_chill'],\n",
       "      dtype='object')"
      ]
     },
     "execution_count": 60,
     "metadata": {},
     "output_type": "execute_result"
    }
   ],
   "source": [
    "train_df.drop(drop_features, axis = 1).columns"
   ]
  },
  {
   "cell_type": "code",
   "execution_count": 61,
   "metadata": {},
   "outputs": [
    {
     "data": {
      "text/plain": [
       "Index(['time', 'temp_in_f', 'holiday', 'month', 'autumn', 'spring', 'summer',\n",
       "       'winter', 'weekday', 'Member', 'thunderstorm', 'cloudy', 'drizzle',\n",
       "       'fog', 'haze', 'rain', 'snow', 'clear', 'N', 'E', 'W', 'S', 'day_time',\n",
       "       'evening_peak', 'morning_peak', 'night_time', 'heat_index',\n",
       "       'wind_chill'],\n",
       "      dtype='object')"
      ]
     },
     "execution_count": 61,
     "metadata": {},
     "output_type": "execute_result"
    }
   ],
   "source": [
    "test_df.drop(drop_features, axis = 1).columns"
   ]
  },
  {
   "cell_type": "markdown",
   "metadata": {},
   "source": [
    "### Final model "
   ]
  },
  {
   "cell_type": "code",
   "execution_count": 68,
   "metadata": {},
   "outputs": [
    {
     "name": "stdout",
     "output_type": "stream",
     "text": [
      "Running model:  RandomForest\n",
      "model fitted..\n",
      "predictions done..\n",
      "0.5517558133795779\n",
      "Running model:  AdaBoost\n",
      "model fitted..\n",
      "predictions done..\n",
      "0.8436289087772082\n",
      "Running model:  Bagging\n",
      "model fitted..\n",
      "predictions done..\n",
      "0.5619840613581569\n",
      "Running model:  Kneighnours\n",
      "model fitted..\n",
      "predictions done..\n",
      "0.9000789836216468\n",
      "Running model:  Gradient_boosting\n",
      "model fitted..\n",
      "predictions done..\n",
      "0.5651064730429614\n",
      "Running model:  Ridge\n",
      "model fitted..\n",
      "predictions done..\n",
      "0.853265635733473\n"
     ]
    },
    {
     "data": {
      "text/html": [
       "<div>\n",
       "<style scoped>\n",
       "    .dataframe tbody tr th:only-of-type {\n",
       "        vertical-align: middle;\n",
       "    }\n",
       "\n",
       "    .dataframe tbody tr th {\n",
       "        vertical-align: top;\n",
       "    }\n",
       "\n",
       "    .dataframe thead th {\n",
       "        text-align: right;\n",
       "    }\n",
       "</style>\n",
       "<table border=\"1\" class=\"dataframe\">\n",
       "  <thead>\n",
       "    <tr style=\"text-align: right;\">\n",
       "      <th></th>\n",
       "      <th>Log_RMSE</th>\n",
       "      <th>MAE</th>\n",
       "      <th>MSE</th>\n",
       "      <th>Modelling Algo</th>\n",
       "      <th>R2</th>\n",
       "    </tr>\n",
       "  </thead>\n",
       "  <tbody>\n",
       "    <tr>\n",
       "      <th>0</th>\n",
       "      <td>0.551756</td>\n",
       "      <td>56.304098</td>\n",
       "      <td>9738.049805</td>\n",
       "      <td>RandomForest</td>\n",
       "      <td>0.835170</td>\n",
       "    </tr>\n",
       "    <tr>\n",
       "      <th>1</th>\n",
       "      <td>0.843629</td>\n",
       "      <td>116.713278</td>\n",
       "      <td>43122.697456</td>\n",
       "      <td>AdaBoost</td>\n",
       "      <td>-0.869775</td>\n",
       "    </tr>\n",
       "    <tr>\n",
       "      <th>2</th>\n",
       "      <td>0.561984</td>\n",
       "      <td>53.779636</td>\n",
       "      <td>9002.700248</td>\n",
       "      <td>Bagging</td>\n",
       "      <td>0.865822</td>\n",
       "    </tr>\n",
       "    <tr>\n",
       "      <th>3</th>\n",
       "      <td>0.900079</td>\n",
       "      <td>99.766546</td>\n",
       "      <td>33245.025352</td>\n",
       "      <td>Kneighnours</td>\n",
       "      <td>-0.018604</td>\n",
       "    </tr>\n",
       "    <tr>\n",
       "      <th>4</th>\n",
       "      <td>0.565106</td>\n",
       "      <td>58.471681</td>\n",
       "      <td>9859.659362</td>\n",
       "      <td>Gradient_boosting</td>\n",
       "      <td>0.848582</td>\n",
       "    </tr>\n",
       "    <tr>\n",
       "      <th>5</th>\n",
       "      <td>0.853266</td>\n",
       "      <td>113.525347</td>\n",
       "      <td>44587.171805</td>\n",
       "      <td>Ridge</td>\n",
       "      <td>0.230227</td>\n",
       "    </tr>\n",
       "  </tbody>\n",
       "</table>\n",
       "</div>"
      ],
      "text/plain": [
       "   Log_RMSE         MAE           MSE     Modelling Algo        R2\n",
       "0  0.551756   56.304098   9738.049805       RandomForest  0.835170\n",
       "1  0.843629  116.713278  43122.697456           AdaBoost -0.869775\n",
       "2  0.561984   53.779636   9002.700248            Bagging  0.865822\n",
       "3  0.900079   99.766546  33245.025352        Kneighnours -0.018604\n",
       "4  0.565106   58.471681   9859.659362  Gradient_boosting  0.848582\n",
       "5  0.853266  113.525347  44587.171805              Ridge  0.230227"
      ]
     },
     "execution_count": 68,
     "metadata": {},
     "output_type": "execute_result"
    }
   ],
   "source": [
    "# redefine Xtrain and all and then predict for everything \n",
    "# ugly code can't be bothered to write nice function .. soz\n",
    "predict_element = 'total_out'\n",
    "X_train = train_df.drop(drop_features, axis = 1) # technically already droped the data\n",
    "y_train = np.log1p(train_df[predict_element])\n",
    "\n",
    "X_test = test_df.drop(drop_features, axis = 1)\n",
    "#X_test = X_test.drop(['station', 'total_in'], axis = 1)\n",
    "y_test = np.log1p(test_df[predict_element])\n",
    "\n",
    "log_rmse = []\n",
    "mse = []\n",
    "r2 = []\n",
    "mae = []\n",
    "d = {}\n",
    "for model in range (len(models)):\n",
    "    print('Running model: ', model_names[model])\n",
    "    clf = models[model]\n",
    "    clf.fit(X_train, y_train)\n",
    "    print('model fitted..')\n",
    "    test_pred = clf.predict(X_test)\n",
    "    print('predictions done..')\n",
    "    model_log_rmse = np.sqrt(mean_squared_log_error(np.exp(test_pred), np.exp(y_test)))\n",
    "    mse.append(mean_squared_error(np.exp(test_pred), np.exp(y_test)))\n",
    "    r2.append(r2_score(np.exp(test_pred), np.exp(y_test)))\n",
    "    mae.append(mean_absolute_error(np.exp(test_pred), np.exp(y_test)))\n",
    "    log_rmse.append(model_log_rmse)\n",
    "    print(model_log_rmse)\n",
    "\n",
    "d = {'Modelling Algo':model_names,'Log_RMSE':log_rmse, 'MSE':mse, 'R2':r2, 'MAE': mae} \n",
    "\n",
    "rmse_df = pd.DataFrame(d)\n",
    "rmse_df\n"
   ]
  },
  {
   "cell_type": "code",
   "execution_count": 69,
   "metadata": {},
   "outputs": [
    {
     "data": {
      "text/plain": [
       "<matplotlib.axes._subplots.AxesSubplot at 0x7f08d3e0d7b8>"
      ]
     },
     "execution_count": 69,
     "metadata": {},
     "output_type": "execute_result"
    },
    {
     "data": {
      "image/png": "[encoded data removed]",
      "text/plain": [
       "<matplotlib.figure.Figure at 0x7f08d49b22b0>"
      ]
     },
     "metadata": {
      "needs_background": "light"
     },
     "output_type": "display_data"
    }
   ],
   "source": [
    "import matplotlib.pyplot as plt\n",
    "import seaborn as sns\n",
    "fig,(ax1,ax2)= plt.subplots(ncols=2)\n",
    "fig.set_size_inches(12,5)\n",
    "sns.distplot(y_test,ax=ax1,bins=50)\n",
    "sns.distplot(np.exp(test_pred),ax=ax2,bins=50)"
   ]
  },
  {
   "cell_type": "markdown",
   "metadata": {},
   "source": [
    "#### PREDICTIONS NOT INCLUDING THE STATIONS "
   ]
  },
  {
   "cell_type": "code",
   "execution_count": null,
   "metadata": {},
   "outputs": [],
   "source": [
    "X_train, X_test, y_train, y_test = train_test_split(train_df.drop(drop_features, axis = 1),\n",
    "                                                    np.log1p(train_df['total_out']), test_size = 0.10, random_state = 42)\n",
    "\n",
    "def two_score(y_true, y_pred):    \n",
    "    #log_rmse = np.sqrt(mean_squared_log_error(np.exp(y_pred), np.exp(y_true))) #set score here and not below if using MSE in GridCV\n",
    "    r2 = r2_score(np.exp(y_pred), np.exp(y_true))\n",
    "    return r2\n",
    "\n",
    "def two_scorer():\n",
    "    return make_scorer(two_score, greater_is_better = True) # change to true if predicting r2\n",
    "\n",
    "model_testing = 'random_forest'\n",
    "\n",
    "# model tuning\n",
    "if model_testing == 'ada_boost':\n",
    "    parameters = {'n_estimators': list(range(50,700, 50)),\n",
    "                  'learning_rate':[.001,0.01,.1],\n",
    "                  'random_state':[1]}\n",
    "\n",
    "    model = AdaBoostRegressor()\n",
    "    \n",
    "elif model_testing == 'random_forest':\n",
    "    parameters = {'n_estimators': list(range(50,700, 50)),\n",
    "                  'max_depth' : [2,4,8,10],\n",
    "                  'bootstrap': [True],\n",
    "                  'random_state':[1]\n",
    "            }\n",
    "    model = RandomForestRegressor()\n",
    "    \n",
    "elif model_testing == 'gradient_boosting':\n",
    "    #parameters = \n",
    "    model =  GradientBoostingRegressor()\n",
    "    \n",
    "elif model_testing == 'bagging':\n",
    "    model = BaggingRegressor()\n",
    "\n",
    "\n",
    "search = GridSearchCV(estimator = model, param_grid = parameters, \n",
    "                      scoring = two_scorer(), n_jobs = 1)\n",
    "\n",
    "search.fit(X_train, y_train)\n"
   ]
  },
  {
   "cell_type": "code",
   "execution_count": null,
   "metadata": {},
   "outputs": [],
   "source": [
    "print(search.best_score_)\n",
    "print(search.best_params_)"
   ]
  },
  {
   "cell_type": "code",
   "execution_count": null,
   "metadata": {},
   "outputs": [],
   "source": [
    "print(grid.grid_scores_)"
   ]
  }
 ],
 "metadata": {
  "kernelspec": {
   "display_name": "Python 3",
   "language": "python",
   "name": "python3"
  },
  "language_info": {
   "codemirror_mode": {
    "name": "ipython",
    "version": 3
   },
   "file_extension": ".py",
   "mimetype": "text/x-python",
   "name": "python",
   "nbconvert_exporter": "python",
   "pygments_lexer": "ipython3",
   "version": "3.6.8"
  }
 },
 "nbformat": 4,
 "nbformat_minor": 2
}
