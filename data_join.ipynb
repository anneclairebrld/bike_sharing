{
 "cells": [
  {
   "cell_type": "code",
   "execution_count": 1,
   "metadata": {},
   "outputs": [],
   "source": [
    "import pandas as pd \n",
    "import numpy as np"
   ]
  },
  {
   "cell_type": "code",
   "execution_count": 2,
   "metadata": {},
   "outputs": [],
   "source": [
    "weather_data = pd.read_csv('./data/weather_data3.csv')\n",
    "bike_data = pd.read_csv('./data/combined_csv.csv')"
   ]
  },
  {
   "cell_type": "code",
   "execution_count": 3,
   "metadata": {},
   "outputs": [
    {
     "data": {
      "text/html": [
       "<div>\n",
       "<style scoped>\n",
       "    .dataframe tbody tr th:only-of-type {\n",
       "        vertical-align: middle;\n",
       "    }\n",
       "\n",
       "    .dataframe tbody tr th {\n",
       "        vertical-align: top;\n",
       "    }\n",
       "\n",
       "    .dataframe thead th {\n",
       "        text-align: right;\n",
       "    }\n",
       "</style>\n",
       "<table border=\"1\" class=\"dataframe\">\n",
       "  <thead>\n",
       "    <tr style=\"text-align: right;\">\n",
       "      <th></th>\n",
       "      <th>date</th>\n",
       "      <th>time</th>\n",
       "      <th>weather_description</th>\n",
       "      <th>temp_in_f</th>\n",
       "      <th>dewpt_in_f</th>\n",
       "      <th>humidity_in_%</th>\n",
       "      <th>pressure</th>\n",
       "      <th>precipitation_in_inches</th>\n",
       "      <th>visibility_in_miles</th>\n",
       "      <th>wind_direction</th>\n",
       "      <th>wind_speed_in_mph</th>\n",
       "    </tr>\n",
       "  </thead>\n",
       "  <tbody>\n",
       "    <tr>\n",
       "      <th>0</th>\n",
       "      <td>2018-01-01</td>\n",
       "      <td>00:00:00</td>\n",
       "      <td>Clear</td>\n",
       "      <td>12°F</td>\n",
       "      <td>5°F</td>\n",
       "      <td>73%</td>\n",
       "      <td>30.39</td>\n",
       "      <td>0 in.</td>\n",
       "      <td>10mi.</td>\n",
       "      <td>SSE</td>\n",
       "      <td>3.0</td>\n",
       "    </tr>\n",
       "    <tr>\n",
       "      <th>1</th>\n",
       "      <td>2018-01-01</td>\n",
       "      <td>01:00:00</td>\n",
       "      <td>Clear</td>\n",
       "      <td>10°F</td>\n",
       "      <td>5°F</td>\n",
       "      <td>79%</td>\n",
       "      <td>30.39</td>\n",
       "      <td>0 in.</td>\n",
       "      <td>10mi.</td>\n",
       "      <td>S</td>\n",
       "      <td>3.0</td>\n",
       "    </tr>\n",
       "    <tr>\n",
       "      <th>2</th>\n",
       "      <td>2018-01-01</td>\n",
       "      <td>02:00:00</td>\n",
       "      <td>Clear</td>\n",
       "      <td>10°F</td>\n",
       "      <td>3°F</td>\n",
       "      <td>72%</td>\n",
       "      <td>30.39</td>\n",
       "      <td>0 in.</td>\n",
       "      <td>10mi.</td>\n",
       "      <td>N</td>\n",
       "      <td>0.0</td>\n",
       "    </tr>\n",
       "    <tr>\n",
       "      <th>3</th>\n",
       "      <td>2018-01-01</td>\n",
       "      <td>03:00:00</td>\n",
       "      <td>Clear</td>\n",
       "      <td>14°F</td>\n",
       "      <td>5°F</td>\n",
       "      <td>67%</td>\n",
       "      <td>30.39</td>\n",
       "      <td>0 in.</td>\n",
       "      <td>10mi.</td>\n",
       "      <td>W</td>\n",
       "      <td>7.0</td>\n",
       "    </tr>\n",
       "    <tr>\n",
       "      <th>4</th>\n",
       "      <td>2018-01-01</td>\n",
       "      <td>04:00:00</td>\n",
       "      <td>Clear</td>\n",
       "      <td>14°F</td>\n",
       "      <td>3°F</td>\n",
       "      <td>62%</td>\n",
       "      <td>30.42</td>\n",
       "      <td>0 in.</td>\n",
       "      <td>10mi.</td>\n",
       "      <td>WNW</td>\n",
       "      <td>7.0</td>\n",
       "    </tr>\n",
       "  </tbody>\n",
       "</table>\n",
       "</div>"
      ],
      "text/plain": [
       "         date      time weather_description temp_in_f dewpt_in_f  \\\n",
       "0  2018-01-01  00:00:00               Clear      12°F        5°F   \n",
       "1  2018-01-01  01:00:00               Clear      10°F        5°F   \n",
       "2  2018-01-01  02:00:00               Clear      10°F        3°F   \n",
       "3  2018-01-01  03:00:00               Clear      14°F        5°F   \n",
       "4  2018-01-01  04:00:00               Clear      14°F        3°F   \n",
       "\n",
       "  humidity_in_%  pressure precipitation_in_inches visibility_in_miles  \\\n",
       "0           73%     30.39                   0 in.               10mi.   \n",
       "1           79%     30.39                   0 in.               10mi.   \n",
       "2           72%     30.39                   0 in.               10mi.   \n",
       "3           67%     30.39                   0 in.               10mi.   \n",
       "4           62%     30.42                   0 in.               10mi.   \n",
       "\n",
       "  wind_direction  wind_speed_in_mph  \n",
       "0            SSE                3.0  \n",
       "1              S                3.0  \n",
       "2              N                0.0  \n",
       "3              W                7.0  \n",
       "4            WNW                7.0  "
      ]
     },
     "execution_count": 3,
     "metadata": {},
     "output_type": "execute_result"
    }
   ],
   "source": [
    "weather_data.head()"
   ]
  },
  {
   "cell_type": "code",
   "execution_count": 4,
   "metadata": {},
   "outputs": [
    {
     "data": {
      "text/html": [
       "<div>\n",
       "<style scoped>\n",
       "    .dataframe tbody tr th:only-of-type {\n",
       "        vertical-align: middle;\n",
       "    }\n",
       "\n",
       "    .dataframe tbody tr th {\n",
       "        vertical-align: top;\n",
       "    }\n",
       "\n",
       "    .dataframe thead th {\n",
       "        text-align: right;\n",
       "    }\n",
       "</style>\n",
       "<table border=\"1\" class=\"dataframe\">\n",
       "  <thead>\n",
       "    <tr style=\"text-align: right;\">\n",
       "      <th></th>\n",
       "      <th>Duration</th>\n",
       "      <th>Start date</th>\n",
       "      <th>End date</th>\n",
       "      <th>Start station number</th>\n",
       "      <th>Start station</th>\n",
       "      <th>End station number</th>\n",
       "      <th>End station</th>\n",
       "      <th>Bike number</th>\n",
       "      <th>Member type</th>\n",
       "    </tr>\n",
       "  </thead>\n",
       "  <tbody>\n",
       "    <tr>\n",
       "      <th>0</th>\n",
       "      <td>552</td>\n",
       "      <td>2018-01-01 00:05:06</td>\n",
       "      <td>2018-01-01 00:14:18</td>\n",
       "      <td>31104</td>\n",
       "      <td>Adams Mill &amp; Columbia Rd NW</td>\n",
       "      <td>31400</td>\n",
       "      <td>Georgia &amp; New Hampshire Ave NW</td>\n",
       "      <td>W00886</td>\n",
       "      <td>Member</td>\n",
       "    </tr>\n",
       "    <tr>\n",
       "      <th>1</th>\n",
       "      <td>1282</td>\n",
       "      <td>2018-01-01 00:14:30</td>\n",
       "      <td>2018-01-01 00:35:53</td>\n",
       "      <td>31321</td>\n",
       "      <td>15th St &amp; Constitution Ave NW</td>\n",
       "      <td>31321</td>\n",
       "      <td>15th St &amp; Constitution Ave NW</td>\n",
       "      <td>W01435</td>\n",
       "      <td>Casual</td>\n",
       "    </tr>\n",
       "    <tr>\n",
       "      <th>2</th>\n",
       "      <td>1265</td>\n",
       "      <td>2018-01-01 00:14:53</td>\n",
       "      <td>2018-01-01 00:35:58</td>\n",
       "      <td>31321</td>\n",
       "      <td>15th St &amp; Constitution Ave NW</td>\n",
       "      <td>31321</td>\n",
       "      <td>15th St &amp; Constitution Ave NW</td>\n",
       "      <td>W21242</td>\n",
       "      <td>Casual</td>\n",
       "    </tr>\n",
       "    <tr>\n",
       "      <th>3</th>\n",
       "      <td>578</td>\n",
       "      <td>2018-01-01 00:15:31</td>\n",
       "      <td>2018-01-01 00:25:09</td>\n",
       "      <td>31406</td>\n",
       "      <td>14th &amp; Upshur St NW</td>\n",
       "      <td>31103</td>\n",
       "      <td>16th &amp; Harvard St NW</td>\n",
       "      <td>W21322</td>\n",
       "      <td>Casual</td>\n",
       "    </tr>\n",
       "    <tr>\n",
       "      <th>4</th>\n",
       "      <td>372</td>\n",
       "      <td>2018-01-01 00:18:02</td>\n",
       "      <td>2018-01-01 00:24:15</td>\n",
       "      <td>31618</td>\n",
       "      <td>4th &amp; East Capitol St NE</td>\n",
       "      <td>31619</td>\n",
       "      <td>Lincoln Park / 13th &amp; East Capitol St NE</td>\n",
       "      <td>W00119</td>\n",
       "      <td>Member</td>\n",
       "    </tr>\n",
       "  </tbody>\n",
       "</table>\n",
       "</div>"
      ],
      "text/plain": [
       "   Duration           Start date             End date  Start station number  \\\n",
       "0       552  2018-01-01 00:05:06  2018-01-01 00:14:18                 31104   \n",
       "1      1282  2018-01-01 00:14:30  2018-01-01 00:35:53                 31321   \n",
       "2      1265  2018-01-01 00:14:53  2018-01-01 00:35:58                 31321   \n",
       "3       578  2018-01-01 00:15:31  2018-01-01 00:25:09                 31406   \n",
       "4       372  2018-01-01 00:18:02  2018-01-01 00:24:15                 31618   \n",
       "\n",
       "                   Start station  End station number  \\\n",
       "0    Adams Mill & Columbia Rd NW               31400   \n",
       "1  15th St & Constitution Ave NW               31321   \n",
       "2  15th St & Constitution Ave NW               31321   \n",
       "3            14th & Upshur St NW               31103   \n",
       "4       4th & East Capitol St NE               31619   \n",
       "\n",
       "                                 End station Bike number Member type  \n",
       "0             Georgia & New Hampshire Ave NW      W00886      Member  \n",
       "1              15th St & Constitution Ave NW      W01435      Casual  \n",
       "2              15th St & Constitution Ave NW      W21242      Casual  \n",
       "3                       16th & Harvard St NW      W21322      Casual  \n",
       "4  Lincoln Park / 13th & East Capitol St NE       W00119      Member  "
      ]
     },
     "execution_count": 4,
     "metadata": {},
     "output_type": "execute_result"
    }
   ],
   "source": [
    "bike_data.head()"
   ]
  },
  {
   "cell_type": "markdown",
   "metadata": {},
   "source": [
    "## Cleaning the data"
   ]
  },
  {
   "cell_type": "code",
   "execution_count": 5,
   "metadata": {},
   "outputs": [],
   "source": [
    "## Removing unwanted characters such as %, F etc (i.e units)\n",
    "weather_data['temp_in_f'] = weather_data['temp_in_f'].str.extract('(\\d+)', expand=False)\n",
    "weather_data['dewpt_in_f'] = weather_data['dewpt_in_f'].str.extract('(\\d+)', expand=False)\n",
    "weather_data['humidity_in_%'] = weather_data['humidity_in_%'].str.extract('(\\d+)', expand=False)\n",
    "weather_data['visibility_in_miles'] = weather_data['visibility_in_miles'].str.extract('(\\d+)', expand=False)\n",
    "weather_data['precipitation_in_inches'] = weather_data['precipitation_in_inches'].str.extract('(\\d+)', expand=False)"
   ]
  },
  {
   "cell_type": "code",
   "execution_count": 6,
   "metadata": {},
   "outputs": [],
   "source": [
    "## convert to datetime \n",
    "bike_data['Start date'] = pd.to_datetime(bike_data['Start date'])\n",
    "bike_data['End date'] = pd.to_datetime(bike_data['End date'])"
   ]
  },
  {
   "cell_type": "code",
   "execution_count": 7,
   "metadata": {},
   "outputs": [],
   "source": [
    "## Separating date and time\n",
    "bike_data['start_date'] = bike_data['Start date'].dt.date\n",
    "bike_data['end_date'] = bike_data['End date'].dt.date\n",
    "bike_data['start_time'] = bike_data['Start date'].dt.time\n",
    "bike_data['end_time'] = bike_data['End date'].dt.time"
   ]
  },
  {
   "cell_type": "code",
   "execution_count": 8,
   "metadata": {},
   "outputs": [],
   "source": [
    "# get duration in minutes \n",
    "bike_data['duration_in_mins'] = (bike_data['End date'] - bike_data['Start date']) / np.timedelta64(1,'m') "
   ]
  },
  {
   "cell_type": "code",
   "execution_count": 9,
   "metadata": {},
   "outputs": [],
   "source": [
    "bike_data = bike_data.rename(columns={'Start station number': 'start_station_id', 'Start station': 'start_station', \n",
    "                         'End station number': 'end_station_id', 'End station':'end_station', \n",
    "                         'Bike number': 'bike_id', 'Member type': 'member_type'})"
   ]
  },
  {
   "cell_type": "markdown",
   "metadata": {},
   "source": [
    "## Sanity checks "
   ]
  },
  {
   "cell_type": "code",
   "execution_count": 10,
   "metadata": {},
   "outputs": [
    {
     "data": {
      "text/plain": [
       "Duration            0\n",
       "Start date          0\n",
       "End date            0\n",
       "start_station_id    0\n",
       "start_station       0\n",
       "end_station_id      0\n",
       "end_station         0\n",
       "bike_id             0\n",
       "member_type         0\n",
       "start_date          0\n",
       "end_date            0\n",
       "start_time          0\n",
       "end_time            0\n",
       "duration_in_mins    0\n",
       "dtype: int64"
      ]
     },
     "execution_count": 10,
     "metadata": {},
     "output_type": "execute_result"
    }
   ],
   "source": [
    "# checking number of nulls \n",
    "bike_data.isna().sum() "
   ]
  },
  {
   "cell_type": "markdown",
   "metadata": {},
   "source": [
    "## Merge weather data and bike data"
   ]
  },
  {
   "cell_type": "code",
   "execution_count": 11,
   "metadata": {},
   "outputs": [],
   "source": [
    "# get nearest hour\n",
    "bike_data['nearest_date'] = bike_data['Start date'].dt.round(freq = 'H')\n",
    "bike_data['date'] = bike_data['nearest_date'].dt.date\n",
    "bike_data['date'] = bike_data['date'].apply(lambda x:x.strftime('%Y-%m-%d'))\n",
    "bike_data['time'] = bike_data['nearest_date'].dt.time\n",
    "bike_data['time'] = bike_data['time'].apply(lambda x:x.strftime('%H:%M:%S'))"
   ]
  },
  {
   "cell_type": "code",
   "execution_count": 12,
   "metadata": {},
   "outputs": [],
   "source": [
    "weather_data['time'] = weather_data['time'].apply(lambda x: x.strip())\n",
    "weather_data['date'] = weather_data['date'].apply(lambda x: x.strip())"
   ]
  },
  {
   "cell_type": "code",
   "execution_count": 13,
   "metadata": {},
   "outputs": [],
   "source": [
    "# merge\n",
    "final_data = pd.merge(bike_data, weather_data, on=['date', 'time'], how='inner')"
   ]
  },
  {
   "cell_type": "code",
   "execution_count": 14,
   "metadata": {},
   "outputs": [],
   "source": [
    "# drop columns \n",
    "final_data = final_data.drop(['nearest_date', 'Duration', 'Start date', 'End date', \n",
    "                           'date', 'time'], axis = 1)"
   ]
  },
  {
   "cell_type": "code",
   "execution_count": 15,
   "metadata": {},
   "outputs": [
    {
     "data": {
      "text/plain": [
       "(3542684, 17)"
      ]
     },
     "execution_count": 15,
     "metadata": {},
     "output_type": "execute_result"
    }
   ],
   "source": [
    "bike_data.shape"
   ]
  },
  {
   "cell_type": "code",
   "execution_count": 16,
   "metadata": {},
   "outputs": [
    {
     "data": {
      "text/plain": [
       "(3542233, 20)"
      ]
     },
     "execution_count": 16,
     "metadata": {},
     "output_type": "execute_result"
    }
   ],
   "source": [
    "final_data.shape"
   ]
  },
  {
   "cell_type": "code",
   "execution_count": 17,
   "metadata": {},
   "outputs": [
    {
     "data": {
      "text/plain": [
       "start_station_id              0\n",
       "start_station                 0\n",
       "end_station_id                0\n",
       "end_station                   0\n",
       "bike_id                       0\n",
       "member_type                   0\n",
       "start_date                    0\n",
       "end_date                      0\n",
       "start_time                    0\n",
       "end_time                      0\n",
       "duration_in_mins              0\n",
       "weather_description        1896\n",
       "temp_in_f                  1048\n",
       "dewpt_in_f                 1048\n",
       "humidity_in_%              1048\n",
       "pressure                      0\n",
       "precipitation_in_inches       0\n",
       "visibility_in_miles        9750\n",
       "wind_direction                0\n",
       "wind_speed_in_mph          1452\n",
       "dtype: int64"
      ]
     },
     "execution_count": 17,
     "metadata": {},
     "output_type": "execute_result"
    }
   ],
   "source": [
    "# checking number of nulls \n",
    "final_data.isna().sum() "
   ]
  },
  {
   "cell_type": "code",
   "execution_count": 28,
   "metadata": {},
   "outputs": [
    {
     "data": {
      "text/plain": [
       "2018-08-14    598\n",
       "2018-04-16    266\n",
       "2018-11-15    117\n",
       "2018-11-16     67\n",
       "Name: start_date, dtype: int64"
      ]
     },
     "execution_count": 28,
     "metadata": {},
     "output_type": "execute_result"
    }
   ],
   "source": [
    "final_data['start_date'][final_data['temp_in_f'].isna()].value_counts()"
   ]
  },
  {
   "cell_type": "code",
   "execution_count": 20,
   "metadata": {},
   "outputs": [
    {
     "data": {
      "text/html": [
       "<div>\n",
       "<style scoped>\n",
       "    .dataframe tbody tr th:only-of-type {\n",
       "        vertical-align: middle;\n",
       "    }\n",
       "\n",
       "    .dataframe tbody tr th {\n",
       "        vertical-align: top;\n",
       "    }\n",
       "\n",
       "    .dataframe thead th {\n",
       "        text-align: right;\n",
       "    }\n",
       "</style>\n",
       "<table border=\"1\" class=\"dataframe\">\n",
       "  <thead>\n",
       "    <tr style=\"text-align: right;\">\n",
       "      <th></th>\n",
       "      <th>start_station_id</th>\n",
       "      <th>start_station</th>\n",
       "      <th>end_station_id</th>\n",
       "      <th>end_station</th>\n",
       "      <th>bike_id</th>\n",
       "      <th>member_type</th>\n",
       "      <th>start_date</th>\n",
       "      <th>end_date</th>\n",
       "      <th>start_time</th>\n",
       "      <th>end_time</th>\n",
       "      <th>duration_in_mins</th>\n",
       "      <th>weather_description</th>\n",
       "      <th>temp_in_f</th>\n",
       "      <th>dewpt_in_f</th>\n",
       "      <th>humidity_in_%</th>\n",
       "      <th>pressure</th>\n",
       "      <th>precipitation_in_inches</th>\n",
       "      <th>visibility_in_miles</th>\n",
       "      <th>wind_direction</th>\n",
       "      <th>wind_speed_in_mph</th>\n",
       "    </tr>\n",
       "  </thead>\n",
       "  <tbody>\n",
       "    <tr>\n",
       "      <th>3542228</th>\n",
       "      <td>31045</td>\n",
       "      <td>Commerce St &amp; Fayette St</td>\n",
       "      <td>31041</td>\n",
       "      <td>Prince St &amp; Union St</td>\n",
       "      <td>W00399</td>\n",
       "      <td>Casual</td>\n",
       "      <td>2018-12-31</td>\n",
       "      <td>2018-12-31</td>\n",
       "      <td>23:28:16</td>\n",
       "      <td>23:43:22</td>\n",
       "      <td>15.100000</td>\n",
       "      <td>Partly Cloudy</td>\n",
       "      <td>59</td>\n",
       "      <td>54</td>\n",
       "      <td>82</td>\n",
       "      <td>29.83</td>\n",
       "      <td>0</td>\n",
       "      <td>10</td>\n",
       "      <td>SSW</td>\n",
       "      <td>8.0</td>\n",
       "    </tr>\n",
       "    <tr>\n",
       "      <th>3542229</th>\n",
       "      <td>31041</td>\n",
       "      <td>Prince St &amp; Union St</td>\n",
       "      <td>31903</td>\n",
       "      <td>Royal &amp; Wilkes St</td>\n",
       "      <td>W00490</td>\n",
       "      <td>Member</td>\n",
       "      <td>2018-12-31</td>\n",
       "      <td>2018-12-31</td>\n",
       "      <td>23:28:16</td>\n",
       "      <td>23:32:50</td>\n",
       "      <td>4.566667</td>\n",
       "      <td>Partly Cloudy</td>\n",
       "      <td>59</td>\n",
       "      <td>54</td>\n",
       "      <td>82</td>\n",
       "      <td>29.83</td>\n",
       "      <td>0</td>\n",
       "      <td>10</td>\n",
       "      <td>SSW</td>\n",
       "      <td>8.0</td>\n",
       "    </tr>\n",
       "    <tr>\n",
       "      <th>3542230</th>\n",
       "      <td>31045</td>\n",
       "      <td>Commerce St &amp; Fayette St</td>\n",
       "      <td>31041</td>\n",
       "      <td>Prince St &amp; Union St</td>\n",
       "      <td>W22125</td>\n",
       "      <td>Member</td>\n",
       "      <td>2018-12-31</td>\n",
       "      <td>2018-12-31</td>\n",
       "      <td>23:28:23</td>\n",
       "      <td>23:43:32</td>\n",
       "      <td>15.150000</td>\n",
       "      <td>Partly Cloudy</td>\n",
       "      <td>59</td>\n",
       "      <td>54</td>\n",
       "      <td>82</td>\n",
       "      <td>29.83</td>\n",
       "      <td>0</td>\n",
       "      <td>10</td>\n",
       "      <td>SSW</td>\n",
       "      <td>8.0</td>\n",
       "    </tr>\n",
       "    <tr>\n",
       "      <th>3542231</th>\n",
       "      <td>31602</td>\n",
       "      <td>Park Rd &amp; Holmead Pl NW</td>\n",
       "      <td>31291</td>\n",
       "      <td>Vermont Ave &amp; I St NW</td>\n",
       "      <td>W23745</td>\n",
       "      <td>Member</td>\n",
       "      <td>2018-12-31</td>\n",
       "      <td>2018-12-31</td>\n",
       "      <td>23:28:50</td>\n",
       "      <td>23:50:09</td>\n",
       "      <td>21.316667</td>\n",
       "      <td>Partly Cloudy</td>\n",
       "      <td>59</td>\n",
       "      <td>54</td>\n",
       "      <td>82</td>\n",
       "      <td>29.83</td>\n",
       "      <td>0</td>\n",
       "      <td>10</td>\n",
       "      <td>SSW</td>\n",
       "      <td>8.0</td>\n",
       "    </tr>\n",
       "    <tr>\n",
       "      <th>3542232</th>\n",
       "      <td>31125</td>\n",
       "      <td>15th &amp; W St NW</td>\n",
       "      <td>31200</td>\n",
       "      <td>Massachusetts Ave &amp; Dupont Circle NW</td>\n",
       "      <td>W00436</td>\n",
       "      <td>Member</td>\n",
       "      <td>2018-12-31</td>\n",
       "      <td>2018-12-31</td>\n",
       "      <td>23:29:55</td>\n",
       "      <td>23:36:24</td>\n",
       "      <td>6.483333</td>\n",
       "      <td>Partly Cloudy</td>\n",
       "      <td>59</td>\n",
       "      <td>54</td>\n",
       "      <td>82</td>\n",
       "      <td>29.83</td>\n",
       "      <td>0</td>\n",
       "      <td>10</td>\n",
       "      <td>SSW</td>\n",
       "      <td>8.0</td>\n",
       "    </tr>\n",
       "  </tbody>\n",
       "</table>\n",
       "</div>"
      ],
      "text/plain": [
       "         start_station_id             start_station  end_station_id  \\\n",
       "3542228             31045  Commerce St & Fayette St           31041   \n",
       "3542229             31041      Prince St & Union St           31903   \n",
       "3542230             31045  Commerce St & Fayette St           31041   \n",
       "3542231             31602   Park Rd & Holmead Pl NW           31291   \n",
       "3542232             31125            15th & W St NW           31200   \n",
       "\n",
       "                                  end_station bike_id member_type  start_date  \\\n",
       "3542228                  Prince St & Union St  W00399      Casual  2018-12-31   \n",
       "3542229                     Royal & Wilkes St  W00490      Member  2018-12-31   \n",
       "3542230                  Prince St & Union St  W22125      Member  2018-12-31   \n",
       "3542231                 Vermont Ave & I St NW  W23745      Member  2018-12-31   \n",
       "3542232  Massachusetts Ave & Dupont Circle NW  W00436      Member  2018-12-31   \n",
       "\n",
       "           end_date start_time  end_time  duration_in_mins  \\\n",
       "3542228  2018-12-31   23:28:16  23:43:22         15.100000   \n",
       "3542229  2018-12-31   23:28:16  23:32:50          4.566667   \n",
       "3542230  2018-12-31   23:28:23  23:43:32         15.150000   \n",
       "3542231  2018-12-31   23:28:50  23:50:09         21.316667   \n",
       "3542232  2018-12-31   23:29:55  23:36:24          6.483333   \n",
       "\n",
       "        weather_description temp_in_f dewpt_in_f humidity_in_%  pressure  \\\n",
       "3542228       Partly Cloudy        59         54            82     29.83   \n",
       "3542229       Partly Cloudy        59         54            82     29.83   \n",
       "3542230       Partly Cloudy        59         54            82     29.83   \n",
       "3542231       Partly Cloudy        59         54            82     29.83   \n",
       "3542232       Partly Cloudy        59         54            82     29.83   \n",
       "\n",
       "        precipitation_in_inches visibility_in_miles wind_direction  \\\n",
       "3542228                       0                  10            SSW   \n",
       "3542229                       0                  10            SSW   \n",
       "3542230                       0                  10            SSW   \n",
       "3542231                       0                  10            SSW   \n",
       "3542232                       0                  10            SSW   \n",
       "\n",
       "         wind_speed_in_mph  \n",
       "3542228                8.0  \n",
       "3542229                8.0  \n",
       "3542230                8.0  \n",
       "3542231                8.0  \n",
       "3542232                8.0  "
      ]
     },
     "execution_count": 20,
     "metadata": {},
     "output_type": "execute_result"
    }
   ],
   "source": [
    "final_data.tail()"
   ]
  },
  {
   "cell_type": "code",
   "execution_count": 19,
   "metadata": {},
   "outputs": [],
   "source": [
    "# write out data file \n",
    "final_data.to_csv('./data/data.csv', index=False)"
   ]
  },
  {
   "cell_type": "code",
   "execution_count": null,
   "metadata": {},
   "outputs": [],
   "source": []
  }
 ],
 "metadata": {
  "kernelspec": {
   "display_name": "Python 3",
   "language": "python",
   "name": "python3"
  },
  "language_info": {
   "codemirror_mode": {
    "name": "ipython",
    "version": 3
   },
   "file_extension": ".py",
   "mimetype": "text/x-python",
   "name": "python",
   "nbconvert_exporter": "python",
   "pygments_lexer": "ipython3",
   "version": "3.6.8"
  }
 },
 "nbformat": 4,
 "nbformat_minor": 2
}
