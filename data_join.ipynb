{
 "cells": [
  {
   "cell_type": "code",
   "execution_count": 1,
   "metadata": {},
   "outputs": [],
   "source": [
    "import pandas as pd \n",
    "import numpy as np"
   ]
  },
  {
   "cell_type": "code",
   "execution_count": 2,
   "metadata": {},
   "outputs": [],
   "source": [
    "weather_data = pd.read_csv('./data/weather_data4.csv')\n",
    "bike_data = pd.read_csv('./data/combined_csv.csv')"
   ]
  },
  {
   "cell_type": "code",
   "execution_count": 3,
   "metadata": {},
   "outputs": [
    {
     "data": {
      "text/html": [
       "<div>\n",
       "<style scoped>\n",
       "    .dataframe tbody tr th:only-of-type {\n",
       "        vertical-align: middle;\n",
       "    }\n",
       "\n",
       "    .dataframe tbody tr th {\n",
       "        vertical-align: top;\n",
       "    }\n",
       "\n",
       "    .dataframe thead th {\n",
       "        text-align: right;\n",
       "    }\n",
       "</style>\n",
       "<table border=\"1\" class=\"dataframe\">\n",
       "  <thead>\n",
       "    <tr style=\"text-align: right;\">\n",
       "      <th></th>\n",
       "      <th>date</th>\n",
       "      <th>time</th>\n",
       "      <th>weather_description</th>\n",
       "      <th>temp_in_f</th>\n",
       "      <th>humidity_in_%</th>\n",
       "      <th>pressure</th>\n",
       "      <th>precipitation_in_inches</th>\n",
       "      <th>visibility_in_miles</th>\n",
       "      <th>wind_direction</th>\n",
       "      <th>wind_speed_in_mph</th>\n",
       "      <th>temp_in_f_delta</th>\n",
       "      <th>pressure_delta</th>\n",
       "      <th>humidity_delta</th>\n",
       "      <th>visibility_delta</th>\n",
       "      <th>precipitation_delta</th>\n",
       "      <th>wind_speed_delta</th>\n",
       "    </tr>\n",
       "  </thead>\n",
       "  <tbody>\n",
       "    <tr>\n",
       "      <th>0</th>\n",
       "      <td>2017-12-31</td>\n",
       "      <td>00:00:00</td>\n",
       "      <td>Mist and Fog</td>\n",
       "      <td>32.0</td>\n",
       "      <td>100.0</td>\n",
       "      <td>30.0</td>\n",
       "      <td>0.0</td>\n",
       "      <td>4.0</td>\n",
       "      <td>N</td>\n",
       "      <td>0.0</td>\n",
       "      <td>NaN</td>\n",
       "      <td>NaN</td>\n",
       "      <td>NaN</td>\n",
       "      <td>NaN</td>\n",
       "      <td>NaN</td>\n",
       "      <td>NaN</td>\n",
       "    </tr>\n",
       "    <tr>\n",
       "      <th>1</th>\n",
       "      <td>2017-12-31</td>\n",
       "      <td>01:00:00</td>\n",
       "      <td>Mist and Fog</td>\n",
       "      <td>32.0</td>\n",
       "      <td>100.0</td>\n",
       "      <td>30.0</td>\n",
       "      <td>0.0</td>\n",
       "      <td>4.0</td>\n",
       "      <td>N</td>\n",
       "      <td>1.0</td>\n",
       "      <td>0.0</td>\n",
       "      <td>0.0</td>\n",
       "      <td>0.0</td>\n",
       "      <td>0.0</td>\n",
       "      <td>0.0</td>\n",
       "      <td>1.0</td>\n",
       "    </tr>\n",
       "    <tr>\n",
       "      <th>2</th>\n",
       "      <td>2017-12-31</td>\n",
       "      <td>02:00:00</td>\n",
       "      <td>Mist and Fog</td>\n",
       "      <td>32.0</td>\n",
       "      <td>100.0</td>\n",
       "      <td>30.0</td>\n",
       "      <td>0.0</td>\n",
       "      <td>4.3</td>\n",
       "      <td>N</td>\n",
       "      <td>0.0</td>\n",
       "      <td>0.0</td>\n",
       "      <td>0.0</td>\n",
       "      <td>0.0</td>\n",
       "      <td>0.3</td>\n",
       "      <td>0.0</td>\n",
       "      <td>0.0</td>\n",
       "    </tr>\n",
       "    <tr>\n",
       "      <th>3</th>\n",
       "      <td>2017-12-31</td>\n",
       "      <td>03:00:00</td>\n",
       "      <td>Mist and Fog</td>\n",
       "      <td>32.0</td>\n",
       "      <td>100.0</td>\n",
       "      <td>30.0</td>\n",
       "      <td>0.0</td>\n",
       "      <td>4.3</td>\n",
       "      <td>N</td>\n",
       "      <td>0.0</td>\n",
       "      <td>0.0</td>\n",
       "      <td>0.0</td>\n",
       "      <td>0.0</td>\n",
       "      <td>0.3</td>\n",
       "      <td>0.0</td>\n",
       "      <td>0.0</td>\n",
       "    </tr>\n",
       "    <tr>\n",
       "      <th>4</th>\n",
       "      <td>2017-12-31</td>\n",
       "      <td>04:00:00</td>\n",
       "      <td>Clear</td>\n",
       "      <td>33.0</td>\n",
       "      <td>100.0</td>\n",
       "      <td>30.0</td>\n",
       "      <td>0.0</td>\n",
       "      <td>9.0</td>\n",
       "      <td>N</td>\n",
       "      <td>0.0</td>\n",
       "      <td>1.0</td>\n",
       "      <td>0.0</td>\n",
       "      <td>0.0</td>\n",
       "      <td>5.0</td>\n",
       "      <td>0.0</td>\n",
       "      <td>0.0</td>\n",
       "    </tr>\n",
       "  </tbody>\n",
       "</table>\n",
       "</div>"
      ],
      "text/plain": [
       "         date      time weather_description  temp_in_f  humidity_in_%  \\\n",
       "0  2017-12-31  00:00:00        Mist and Fog       32.0          100.0   \n",
       "1  2017-12-31  01:00:00        Mist and Fog       32.0          100.0   \n",
       "2  2017-12-31  02:00:00        Mist and Fog       32.0          100.0   \n",
       "3  2017-12-31  03:00:00        Mist and Fog       32.0          100.0   \n",
       "4  2017-12-31  04:00:00               Clear       33.0          100.0   \n",
       "\n",
       "   pressure  precipitation_in_inches  visibility_in_miles wind_direction  \\\n",
       "0      30.0                      0.0                  4.0              N   \n",
       "1      30.0                      0.0                  4.0              N   \n",
       "2      30.0                      0.0                  4.3              N   \n",
       "3      30.0                      0.0                  4.3              N   \n",
       "4      30.0                      0.0                  9.0              N   \n",
       "\n",
       "   wind_speed_in_mph  temp_in_f_delta  pressure_delta  humidity_delta  \\\n",
       "0                0.0              NaN             NaN             NaN   \n",
       "1                1.0              0.0             0.0             0.0   \n",
       "2                0.0              0.0             0.0             0.0   \n",
       "3                0.0              0.0             0.0             0.0   \n",
       "4                0.0              1.0             0.0             0.0   \n",
       "\n",
       "   visibility_delta  precipitation_delta  wind_speed_delta  \n",
       "0               NaN                  NaN               NaN  \n",
       "1               0.0                  0.0               1.0  \n",
       "2               0.3                  0.0               0.0  \n",
       "3               0.3                  0.0               0.0  \n",
       "4               5.0                  0.0               0.0  "
      ]
     },
     "execution_count": 3,
     "metadata": {},
     "output_type": "execute_result"
    }
   ],
   "source": [
    "weather_data.head()"
   ]
  },
  {
   "cell_type": "code",
   "execution_count": 4,
   "metadata": {},
   "outputs": [
    {
     "data": {
      "text/html": [
       "<div>\n",
       "<style scoped>\n",
       "    .dataframe tbody tr th:only-of-type {\n",
       "        vertical-align: middle;\n",
       "    }\n",
       "\n",
       "    .dataframe tbody tr th {\n",
       "        vertical-align: top;\n",
       "    }\n",
       "\n",
       "    .dataframe thead th {\n",
       "        text-align: right;\n",
       "    }\n",
       "</style>\n",
       "<table border=\"1\" class=\"dataframe\">\n",
       "  <thead>\n",
       "    <tr style=\"text-align: right;\">\n",
       "      <th></th>\n",
       "      <th>Duration</th>\n",
       "      <th>Start date</th>\n",
       "      <th>End date</th>\n",
       "      <th>Start station number</th>\n",
       "      <th>Start station</th>\n",
       "      <th>End station number</th>\n",
       "      <th>End station</th>\n",
       "      <th>Bike number</th>\n",
       "      <th>Member type</th>\n",
       "    </tr>\n",
       "  </thead>\n",
       "  <tbody>\n",
       "    <tr>\n",
       "      <th>0</th>\n",
       "      <td>552</td>\n",
       "      <td>2018-01-01 00:05:06</td>\n",
       "      <td>2018-01-01 00:14:18</td>\n",
       "      <td>31104</td>\n",
       "      <td>Adams Mill &amp; Columbia Rd NW</td>\n",
       "      <td>31400</td>\n",
       "      <td>Georgia &amp; New Hampshire Ave NW</td>\n",
       "      <td>W00886</td>\n",
       "      <td>Member</td>\n",
       "    </tr>\n",
       "    <tr>\n",
       "      <th>1</th>\n",
       "      <td>1282</td>\n",
       "      <td>2018-01-01 00:14:30</td>\n",
       "      <td>2018-01-01 00:35:53</td>\n",
       "      <td>31321</td>\n",
       "      <td>15th St &amp; Constitution Ave NW</td>\n",
       "      <td>31321</td>\n",
       "      <td>15th St &amp; Constitution Ave NW</td>\n",
       "      <td>W01435</td>\n",
       "      <td>Casual</td>\n",
       "    </tr>\n",
       "    <tr>\n",
       "      <th>2</th>\n",
       "      <td>1265</td>\n",
       "      <td>2018-01-01 00:14:53</td>\n",
       "      <td>2018-01-01 00:35:58</td>\n",
       "      <td>31321</td>\n",
       "      <td>15th St &amp; Constitution Ave NW</td>\n",
       "      <td>31321</td>\n",
       "      <td>15th St &amp; Constitution Ave NW</td>\n",
       "      <td>W21242</td>\n",
       "      <td>Casual</td>\n",
       "    </tr>\n",
       "    <tr>\n",
       "      <th>3</th>\n",
       "      <td>578</td>\n",
       "      <td>2018-01-01 00:15:31</td>\n",
       "      <td>2018-01-01 00:25:09</td>\n",
       "      <td>31406</td>\n",
       "      <td>14th &amp; Upshur St NW</td>\n",
       "      <td>31103</td>\n",
       "      <td>16th &amp; Harvard St NW</td>\n",
       "      <td>W21322</td>\n",
       "      <td>Casual</td>\n",
       "    </tr>\n",
       "    <tr>\n",
       "      <th>4</th>\n",
       "      <td>372</td>\n",
       "      <td>2018-01-01 00:18:02</td>\n",
       "      <td>2018-01-01 00:24:15</td>\n",
       "      <td>31618</td>\n",
       "      <td>4th &amp; East Capitol St NE</td>\n",
       "      <td>31619</td>\n",
       "      <td>Lincoln Park / 13th &amp; East Capitol St NE</td>\n",
       "      <td>W00119</td>\n",
       "      <td>Member</td>\n",
       "    </tr>\n",
       "  </tbody>\n",
       "</table>\n",
       "</div>"
      ],
      "text/plain": [
       "   Duration           Start date             End date  Start station number  \\\n",
       "0       552  2018-01-01 00:05:06  2018-01-01 00:14:18                 31104   \n",
       "1      1282  2018-01-01 00:14:30  2018-01-01 00:35:53                 31321   \n",
       "2      1265  2018-01-01 00:14:53  2018-01-01 00:35:58                 31321   \n",
       "3       578  2018-01-01 00:15:31  2018-01-01 00:25:09                 31406   \n",
       "4       372  2018-01-01 00:18:02  2018-01-01 00:24:15                 31618   \n",
       "\n",
       "                   Start station  End station number  \\\n",
       "0    Adams Mill & Columbia Rd NW               31400   \n",
       "1  15th St & Constitution Ave NW               31321   \n",
       "2  15th St & Constitution Ave NW               31321   \n",
       "3            14th & Upshur St NW               31103   \n",
       "4       4th & East Capitol St NE               31619   \n",
       "\n",
       "                                 End station Bike number Member type  \n",
       "0             Georgia & New Hampshire Ave NW      W00886      Member  \n",
       "1              15th St & Constitution Ave NW      W01435      Casual  \n",
       "2              15th St & Constitution Ave NW      W21242      Casual  \n",
       "3                       16th & Harvard St NW      W21322      Casual  \n",
       "4  Lincoln Park / 13th & East Capitol St NE       W00119      Member  "
      ]
     },
     "execution_count": 4,
     "metadata": {},
     "output_type": "execute_result"
    }
   ],
   "source": [
    "bike_data.head()"
   ]
  },
  {
   "cell_type": "code",
   "execution_count": 5,
   "metadata": {},
   "outputs": [
    {
     "data": {
      "text/plain": [
       "date                        object\n",
       "time                        object\n",
       "weather_description         object\n",
       "temp_in_f                  float64\n",
       "humidity_in_%              float64\n",
       "pressure                   float64\n",
       "precipitation_in_inches    float64\n",
       "visibility_in_miles        float64\n",
       "wind_direction              object\n",
       "wind_speed_in_mph          float64\n",
       "temp_in_f_delta            float64\n",
       "pressure_delta             float64\n",
       "humidity_delta             float64\n",
       "visibility_delta           float64\n",
       "precipitation_delta        float64\n",
       "wind_speed_delta           float64\n",
       "dtype: object"
      ]
     },
     "execution_count": 5,
     "metadata": {},
     "output_type": "execute_result"
    }
   ],
   "source": [
    "weather_data['time'] = weather_data['time'].astype('str') \n",
    "weather_data['date'] = weather_data['date'].astype('str') \n",
    "weather_data.dtypes"
   ]
  },
  {
   "cell_type": "markdown",
   "metadata": {},
   "source": [
    "## Cleaning the data"
   ]
  },
  {
   "cell_type": "code",
   "execution_count": 6,
   "metadata": {},
   "outputs": [],
   "source": [
    "## convert to datetime \n",
    "bike_data['Start date'] = pd.to_datetime(bike_data['Start date'])\n",
    "bike_data['End date'] = pd.to_datetime(bike_data['End date'])"
   ]
  },
  {
   "cell_type": "code",
   "execution_count": 7,
   "metadata": {},
   "outputs": [],
   "source": [
    "## Separating date and time\n",
    "bike_data['start_date'] = bike_data['Start date'].dt.date\n",
    "bike_data['end_date'] = bike_data['End date'].dt.date\n",
    "bike_data['start_time'] = bike_data['Start date'].dt.time\n",
    "bike_data['end_time'] = bike_data['End date'].dt.time"
   ]
  },
  {
   "cell_type": "code",
   "execution_count": 8,
   "metadata": {},
   "outputs": [],
   "source": [
    "# get duration in minutes \n",
    "bike_data['duration_in_mins'] = (bike_data['End date'] - bike_data['Start date']) / np.timedelta64(1,'m') "
   ]
  },
  {
   "cell_type": "code",
   "execution_count": 9,
   "metadata": {},
   "outputs": [],
   "source": [
    "bike_data = bike_data.rename(columns={'Start station number': 'start_station_id', 'Start station': 'start_station', \n",
    "                         'End station number': 'end_station_id', 'End station':'end_station', \n",
    "                         'Bike number': 'bike_id', 'Member type': 'member_type'})"
   ]
  },
  {
   "cell_type": "markdown",
   "metadata": {},
   "source": [
    "## Sanity checks "
   ]
  },
  {
   "cell_type": "code",
   "execution_count": 10,
   "metadata": {},
   "outputs": [
    {
     "data": {
      "text/plain": [
       "20:00:00    365\n",
       "12:00:00    365\n",
       "14:00:00    365\n",
       "05:00:00    365\n",
       "15:00:00    365\n",
       "07:00:00    365\n",
       "21:00:00    365\n",
       "03:00:00    365\n",
       "22:00:00    365\n",
       "10:00:00    365\n",
       "16:00:00    365\n",
       "18:00:00    365\n",
       "06:00:00    365\n",
       "17:00:00    365\n",
       "08:00:00    365\n",
       "19:00:00    365\n",
       "11:00:00    365\n",
       "04:00:00    365\n",
       "09:00:00    365\n",
       "13:00:00    365\n",
       "23:00:00    364\n",
       "01:00:00    364\n",
       "02:00:00    363\n",
       "00:00:00    363\n",
       "nan           2\n",
       "Name: time, dtype: int64"
      ]
     },
     "execution_count": 10,
     "metadata": {},
     "output_type": "execute_result"
    }
   ],
   "source": [
    "# checking number of nulls \n",
    "weather_data['time'].value_counts()"
   ]
  },
  {
   "cell_type": "markdown",
   "metadata": {},
   "source": [
    "## Merge weather data and bike data"
   ]
  },
  {
   "cell_type": "code",
   "execution_count": 11,
   "metadata": {},
   "outputs": [],
   "source": [
    "# get nearest hour\n",
    "bike_data['start_time'] = bike_data['start_time'].apply(lambda x:x.strftime('%H') + ':00:00')\n",
    "bike_data['end_time'] = bike_data['end_time'].apply(lambda x:x.strftime('%H') + ':00:00')"
   ]
  },
  {
   "cell_type": "code",
   "execution_count": 12,
   "metadata": {},
   "outputs": [
    {
     "data": {
      "text/html": [
       "<div>\n",
       "<style scoped>\n",
       "    .dataframe tbody tr th:only-of-type {\n",
       "        vertical-align: middle;\n",
       "    }\n",
       "\n",
       "    .dataframe tbody tr th {\n",
       "        vertical-align: top;\n",
       "    }\n",
       "\n",
       "    .dataframe thead th {\n",
       "        text-align: right;\n",
       "    }\n",
       "</style>\n",
       "<table border=\"1\" class=\"dataframe\">\n",
       "  <thead>\n",
       "    <tr style=\"text-align: right;\">\n",
       "      <th></th>\n",
       "      <th>Duration</th>\n",
       "      <th>Start date</th>\n",
       "      <th>End date</th>\n",
       "      <th>start_station_id</th>\n",
       "      <th>start_station</th>\n",
       "      <th>end_station_id</th>\n",
       "      <th>end_station</th>\n",
       "      <th>bike_id</th>\n",
       "      <th>member_type</th>\n",
       "      <th>start_date</th>\n",
       "      <th>end_date</th>\n",
       "      <th>start_time</th>\n",
       "      <th>end_time</th>\n",
       "      <th>duration_in_mins</th>\n",
       "    </tr>\n",
       "  </thead>\n",
       "  <tbody>\n",
       "    <tr>\n",
       "      <th>3542679</th>\n",
       "      <td>3313</td>\n",
       "      <td>2018-12-31 23:37:22</td>\n",
       "      <td>2019-01-01 00:32:36</td>\n",
       "      <td>31615</td>\n",
       "      <td>6th &amp; H St NE</td>\n",
       "      <td>31624</td>\n",
       "      <td>North Capitol St &amp; F St NW</td>\n",
       "      <td>W00159</td>\n",
       "      <td>Member</td>\n",
       "      <td>2018-12-31</td>\n",
       "      <td>2019-01-01</td>\n",
       "      <td>23:00:00</td>\n",
       "      <td>00:00:00</td>\n",
       "      <td>55.233333</td>\n",
       "    </tr>\n",
       "    <tr>\n",
       "      <th>3542680</th>\n",
       "      <td>888</td>\n",
       "      <td>2018-12-31 23:42:18</td>\n",
       "      <td>2018-12-31 23:57:07</td>\n",
       "      <td>31618</td>\n",
       "      <td>4th &amp; East Capitol St NE</td>\n",
       "      <td>31509</td>\n",
       "      <td>New Jersey Ave &amp; R St NW</td>\n",
       "      <td>W22026</td>\n",
       "      <td>Member</td>\n",
       "      <td>2018-12-31</td>\n",
       "      <td>2018-12-31</td>\n",
       "      <td>23:00:00</td>\n",
       "      <td>23:00:00</td>\n",
       "      <td>14.816667</td>\n",
       "    </tr>\n",
       "    <tr>\n",
       "      <th>3542681</th>\n",
       "      <td>2332</td>\n",
       "      <td>2018-12-31 23:44:23</td>\n",
       "      <td>2019-01-01 00:23:16</td>\n",
       "      <td>31907</td>\n",
       "      <td>Franklin &amp; S Washington St</td>\n",
       "      <td>32406</td>\n",
       "      <td>Fleet St &amp; Waterfront St</td>\n",
       "      <td>W23900</td>\n",
       "      <td>Member</td>\n",
       "      <td>2018-12-31</td>\n",
       "      <td>2019-01-01</td>\n",
       "      <td>23:00:00</td>\n",
       "      <td>00:00:00</td>\n",
       "      <td>38.883333</td>\n",
       "    </tr>\n",
       "    <tr>\n",
       "      <th>3542682</th>\n",
       "      <td>307</td>\n",
       "      <td>2018-12-31 23:52:42</td>\n",
       "      <td>2018-12-31 23:57:50</td>\n",
       "      <td>31114</td>\n",
       "      <td>18th St &amp; Wyoming Ave NW</td>\n",
       "      <td>31103</td>\n",
       "      <td>16th &amp; Harvard St NW</td>\n",
       "      <td>W00761</td>\n",
       "      <td>Member</td>\n",
       "      <td>2018-12-31</td>\n",
       "      <td>2018-12-31</td>\n",
       "      <td>23:00:00</td>\n",
       "      <td>23:00:00</td>\n",
       "      <td>5.133333</td>\n",
       "    </tr>\n",
       "    <tr>\n",
       "      <th>3542683</th>\n",
       "      <td>1062</td>\n",
       "      <td>2018-12-31 23:54:09</td>\n",
       "      <td>2019-01-01 00:11:52</td>\n",
       "      <td>31110</td>\n",
       "      <td>20th St &amp; Florida Ave NW</td>\n",
       "      <td>31014</td>\n",
       "      <td>Lynn &amp; 19th St North</td>\n",
       "      <td>W21324</td>\n",
       "      <td>Member</td>\n",
       "      <td>2018-12-31</td>\n",
       "      <td>2019-01-01</td>\n",
       "      <td>23:00:00</td>\n",
       "      <td>00:00:00</td>\n",
       "      <td>17.716667</td>\n",
       "    </tr>\n",
       "  </tbody>\n",
       "</table>\n",
       "</div>"
      ],
      "text/plain": [
       "         Duration          Start date            End date  start_station_id  \\\n",
       "3542679      3313 2018-12-31 23:37:22 2019-01-01 00:32:36             31615   \n",
       "3542680       888 2018-12-31 23:42:18 2018-12-31 23:57:07             31618   \n",
       "3542681      2332 2018-12-31 23:44:23 2019-01-01 00:23:16             31907   \n",
       "3542682       307 2018-12-31 23:52:42 2018-12-31 23:57:50             31114   \n",
       "3542683      1062 2018-12-31 23:54:09 2019-01-01 00:11:52             31110   \n",
       "\n",
       "                      start_station  end_station_id  \\\n",
       "3542679               6th & H St NE           31624   \n",
       "3542680    4th & East Capitol St NE           31509   \n",
       "3542681  Franklin & S Washington St           32406   \n",
       "3542682    18th St & Wyoming Ave NW           31103   \n",
       "3542683    20th St & Florida Ave NW           31014   \n",
       "\n",
       "                        end_station bike_id member_type  start_date  \\\n",
       "3542679  North Capitol St & F St NW  W00159      Member  2018-12-31   \n",
       "3542680    New Jersey Ave & R St NW  W22026      Member  2018-12-31   \n",
       "3542681    Fleet St & Waterfront St  W23900      Member  2018-12-31   \n",
       "3542682        16th & Harvard St NW  W00761      Member  2018-12-31   \n",
       "3542683        Lynn & 19th St North  W21324      Member  2018-12-31   \n",
       "\n",
       "           end_date start_time  end_time  duration_in_mins  \n",
       "3542679  2019-01-01   23:00:00  00:00:00         55.233333  \n",
       "3542680  2018-12-31   23:00:00  23:00:00         14.816667  \n",
       "3542681  2019-01-01   23:00:00  00:00:00         38.883333  \n",
       "3542682  2018-12-31   23:00:00  23:00:00          5.133333  \n",
       "3542683  2019-01-01   23:00:00  00:00:00         17.716667  "
      ]
     },
     "execution_count": 12,
     "metadata": {},
     "output_type": "execute_result"
    }
   ],
   "source": [
    "bike_data.tail()"
   ]
  },
  {
   "cell_type": "code",
   "execution_count": 13,
   "metadata": {},
   "outputs": [],
   "source": [
    "bike_data = bike_data.drop(['Start date', 'End date', 'Duration', 'bike_id', 'end_station', 'start_station'], axis = 1)"
   ]
  },
  {
   "cell_type": "code",
   "execution_count": 14,
   "metadata": {},
   "outputs": [],
   "source": [
    "ins = bike_data[['start_date', 'start_time', 'start_station_id', 'member_type']]\n",
    "outs = bike_data[['end_date', 'end_time', 'end_station_id', 'member_type']]"
   ]
  },
  {
   "cell_type": "code",
   "execution_count": 15,
   "metadata": {},
   "outputs": [
    {
     "data": {
      "text/plain": [
       "(3542684, 4)"
      ]
     },
     "execution_count": 15,
     "metadata": {},
     "output_type": "execute_result"
    }
   ],
   "source": [
    "ins.shape"
   ]
  },
  {
   "cell_type": "code",
   "execution_count": 16,
   "metadata": {},
   "outputs": [
    {
     "data": {
      "text/plain": [
       "(3542684, 4)"
      ]
     },
     "execution_count": 16,
     "metadata": {},
     "output_type": "execute_result"
    }
   ],
   "source": [
    "outs.shape"
   ]
  },
  {
   "cell_type": "code",
   "execution_count": 17,
   "metadata": {},
   "outputs": [],
   "source": [
    "ins = ins.groupby(['start_date', 'start_time', 'start_station_id', 'member_type']).size().reset_index(name='total_out')"
   ]
  },
  {
   "cell_type": "code",
   "execution_count": 18,
   "metadata": {},
   "outputs": [],
   "source": [
    "outs = outs.groupby(['end_date', 'end_time', 'end_station_id', 'member_type']).size().reset_index(name='total_in')"
   ]
  },
  {
   "cell_type": "code",
   "execution_count": 19,
   "metadata": {},
   "outputs": [],
   "source": [
    "ins = ins.rename(columns={\"start_date\": \"date\", \"start_time\": \"time\", 'start_station_id':'station'})\n",
    "outs = outs.rename(columns={\"end_date\": \"date\", \"end_time\": \"time\", 'end_station_id':'station'})"
   ]
  },
  {
   "cell_type": "code",
   "execution_count": 20,
   "metadata": {},
   "outputs": [
    {
     "data": {
      "text/html": [
       "<div>\n",
       "<style scoped>\n",
       "    .dataframe tbody tr th:only-of-type {\n",
       "        vertical-align: middle;\n",
       "    }\n",
       "\n",
       "    .dataframe tbody tr th {\n",
       "        vertical-align: top;\n",
       "    }\n",
       "\n",
       "    .dataframe thead th {\n",
       "        text-align: right;\n",
       "    }\n",
       "</style>\n",
       "<table border=\"1\" class=\"dataframe\">\n",
       "  <thead>\n",
       "    <tr style=\"text-align: right;\">\n",
       "      <th></th>\n",
       "      <th>date</th>\n",
       "      <th>time</th>\n",
       "      <th>station</th>\n",
       "      <th>member_type</th>\n",
       "      <th>total_in</th>\n",
       "    </tr>\n",
       "  </thead>\n",
       "  <tbody>\n",
       "    <tr>\n",
       "      <th>0</th>\n",
       "      <td>2018-01-01</td>\n",
       "      <td>00:00:00</td>\n",
       "      <td>31045</td>\n",
       "      <td>Member</td>\n",
       "      <td>3</td>\n",
       "    </tr>\n",
       "    <tr>\n",
       "      <th>1</th>\n",
       "      <td>2018-01-01</td>\n",
       "      <td>00:00:00</td>\n",
       "      <td>31079</td>\n",
       "      <td>Member</td>\n",
       "      <td>1</td>\n",
       "    </tr>\n",
       "    <tr>\n",
       "      <th>2</th>\n",
       "      <td>2018-01-01</td>\n",
       "      <td>00:00:00</td>\n",
       "      <td>31098</td>\n",
       "      <td>Member</td>\n",
       "      <td>1</td>\n",
       "    </tr>\n",
       "    <tr>\n",
       "      <th>3</th>\n",
       "      <td>2018-01-01</td>\n",
       "      <td>00:00:00</td>\n",
       "      <td>31101</td>\n",
       "      <td>Member</td>\n",
       "      <td>1</td>\n",
       "    </tr>\n",
       "    <tr>\n",
       "      <th>4</th>\n",
       "      <td>2018-01-01</td>\n",
       "      <td>00:00:00</td>\n",
       "      <td>31103</td>\n",
       "      <td>Casual</td>\n",
       "      <td>1</td>\n",
       "    </tr>\n",
       "  </tbody>\n",
       "</table>\n",
       "</div>"
      ],
      "text/plain": [
       "         date      time  station member_type  total_in\n",
       "0  2018-01-01  00:00:00    31045      Member         3\n",
       "1  2018-01-01  00:00:00    31079      Member         1\n",
       "2  2018-01-01  00:00:00    31098      Member         1\n",
       "3  2018-01-01  00:00:00    31101      Member         1\n",
       "4  2018-01-01  00:00:00    31103      Casual         1"
      ]
     },
     "execution_count": 20,
     "metadata": {},
     "output_type": "execute_result"
    }
   ],
   "source": [
    "outs.head()"
   ]
  },
  {
   "cell_type": "code",
   "execution_count": 21,
   "metadata": {},
   "outputs": [],
   "source": [
    "final = pd.merge(ins, outs, on=['date', 'time', 'station', 'member_type'], how = 'outer')"
   ]
  },
  {
   "cell_type": "code",
   "execution_count": 22,
   "metadata": {},
   "outputs": [
    {
     "data": {
      "text/plain": [
       "date                0\n",
       "time                0\n",
       "station             0\n",
       "member_type         0\n",
       "total_out      578762\n",
       "total_in       597369\n",
       "dtype: int64"
      ]
     },
     "execution_count": 22,
     "metadata": {},
     "output_type": "execute_result"
    }
   ],
   "source": [
    "final.isna().sum()"
   ]
  },
  {
   "cell_type": "code",
   "execution_count": 23,
   "metadata": {},
   "outputs": [],
   "source": [
    "final = final.fillna(0)"
   ]
  },
  {
   "cell_type": "code",
   "execution_count": 24,
   "metadata": {},
   "outputs": [
    {
     "name": "stdout",
     "output_type": "stream",
     "text": [
      "date                        0\n",
      "time                        0\n",
      "weather_description         7\n",
      "temp_in_f                   1\n",
      "humidity_in_%               1\n",
      "pressure                    2\n",
      "precipitation_in_inches     1\n",
      "visibility_in_miles        11\n",
      "wind_direction              0\n",
      "wind_speed_in_mph           2\n",
      "temp_in_f_delta             3\n",
      "pressure_delta              4\n",
      "humidity_delta              3\n",
      "visibility_delta           15\n",
      "precipitation_delta         3\n",
      "wind_speed_delta            5\n",
      "dtype: int64\n"
     ]
    },
    {
     "data": {
      "text/plain": [
       "0       2017-12-31\n",
       "5879    2018-09-02\n",
       "5880    2018-09-02\n",
       "5881    2018-09-02\n",
       "5882    2018-09-02\n",
       "5883    2018-09-02\n",
       "5884    2018-09-02\n",
       "5885    2018-09-02\n",
       "5886    2018-09-02\n",
       "5887    2018-09-02\n",
       "5888    2018-09-02\n",
       "7673    2018-11-15\n",
       "7674           nan\n",
       "7675           nan\n",
       "7676    2018-11-17\n",
       "Name: date, dtype: object"
      ]
     },
     "execution_count": 24,
     "metadata": {},
     "output_type": "execute_result"
    }
   ],
   "source": [
    "# drop days where there are null python \n",
    "print(weather_data.isna().sum())\n",
    "weather_data.loc[weather_data['visibility_delta'].isna()]['date']"
   ]
  },
  {
   "cell_type": "code",
   "execution_count": 25,
   "metadata": {},
   "outputs": [],
   "source": [
    "weather_data.loc[(weather_data['date'] == '2018-09-02') & (weather_data['visibility_in_miles'].isnull()), 'visibility_in_miles'] = 10\n",
    "weather_data.loc[(weather_data.date == '2018-09-02') & (weather_data.visibility_delta.isnull()), 'visibility_delta'] = 0\n",
    "weather_data.loc[(weather_data.date == '2018-09-02')& (weather_data.weather_description.isnull()), 'weather_description'] = 'Cloudy'"
   ]
  },
  {
   "cell_type": "code",
   "execution_count": 26,
   "metadata": {},
   "outputs": [],
   "source": [
    "weather_data.loc[(weather_data['date'] == '2018-11-15') & (weather_data['visibility_in_miles'].isnull())\n",
    "                 ,'visibility_in_miles'] = 2.0\n",
    "weather_data.loc[(weather_data['date'] == '2018-11-15') & (weather_data['wind_speed_in_mph'].isnull())\n",
    "                 ,'wind_speed_in_mph'] = 0.0     \n",
    "weather_data.loc[(weather_data['date'] == '2018-11-15') & (weather_data['visibility_delta'].isnull())\n",
    "                 ,'visibility_delta'] = 0.0\n",
    "weather_data.loc[(weather_data['date'] == '2018-11-15') & (weather_data['wind_speed_delta'].isnull())\n",
    "                 ,'wind_speed_delta'] = 0.0\n",
    "weather_data.loc[(weather_data['date'] == '2018-11-15') & (weather_data['weather_description'].isnull())\n",
    "                 ,'weather_description'] = 'Cloudy'\n",
    "\n",
    "weather_data.loc[(weather_data['date'] == '2018-11-17') & (weather_data['temp_in_f_delta'].isnull())\n",
    "                 ,'temp_in_f_delta'] = 2.0\n",
    "weather_data.loc[(weather_data['date'] == '2018-11-17') & (weather_data['pressure_delta'].isnull())\n",
    "                 ,'pressure_delta'] = 0.0     \n",
    "weather_data.loc[(weather_data['date'] == '2018-11-17') & (weather_data['visibility_delta'].isnull())\n",
    "                 ,'visibility_delta'] = 0.0\n",
    "weather_data.loc[(weather_data['date'] == '2018-11-17') & (weather_data['wind_speed_delta'].isnull())\n",
    "                 ,'wind_speed_delta'] = 0.0\n",
    "weather_data.loc[(weather_data['date'] == '2018-11-17') & (weather_data['humidity_delta'].isnull())\n",
    "                 ,'humidity_delta'] = 0.0\n",
    "weather_data.loc[(weather_data['date'] == '2018-11-17') & (weather_data['precipitation_delta'].isnull())\n",
    "                 ,'precipitation_delta'] = 0.0"
   ]
  },
  {
   "cell_type": "code",
   "execution_count": 27,
   "metadata": {},
   "outputs": [],
   "source": [
    "weather_data = weather_data.drop(['precipitation_delta', 'precipitation_in_inches'], axis = 1)"
   ]
  },
  {
   "cell_type": "code",
   "execution_count": 28,
   "metadata": {},
   "outputs": [
    {
     "data": {
      "text/html": [
       "<div>\n",
       "<style scoped>\n",
       "    .dataframe tbody tr th:only-of-type {\n",
       "        vertical-align: middle;\n",
       "    }\n",
       "\n",
       "    .dataframe tbody tr th {\n",
       "        vertical-align: top;\n",
       "    }\n",
       "\n",
       "    .dataframe thead th {\n",
       "        text-align: right;\n",
       "    }\n",
       "</style>\n",
       "<table border=\"1\" class=\"dataframe\">\n",
       "  <thead>\n",
       "    <tr style=\"text-align: right;\">\n",
       "      <th></th>\n",
       "      <th>date</th>\n",
       "      <th>time</th>\n",
       "      <th>weather_description</th>\n",
       "      <th>temp_in_f</th>\n",
       "      <th>humidity_in_%</th>\n",
       "      <th>pressure</th>\n",
       "      <th>visibility_in_miles</th>\n",
       "      <th>wind_direction</th>\n",
       "      <th>wind_speed_in_mph</th>\n",
       "      <th>temp_in_f_delta</th>\n",
       "      <th>pressure_delta</th>\n",
       "      <th>humidity_delta</th>\n",
       "      <th>visibility_delta</th>\n",
       "      <th>wind_speed_delta</th>\n",
       "    </tr>\n",
       "  </thead>\n",
       "  <tbody>\n",
       "    <tr>\n",
       "      <th>8751</th>\n",
       "      <td>2018-12-31</td>\n",
       "      <td>19:00:00</td>\n",
       "      <td>Cloudy</td>\n",
       "      <td>49.0</td>\n",
       "      <td>96.0</td>\n",
       "      <td>29.0</td>\n",
       "      <td>10.0</td>\n",
       "      <td>WSW</td>\n",
       "      <td>6.3</td>\n",
       "      <td>5.0</td>\n",
       "      <td>0.0</td>\n",
       "      <td>-4.0</td>\n",
       "      <td>4.0</td>\n",
       "      <td>4.6</td>\n",
       "    </tr>\n",
       "    <tr>\n",
       "      <th>8752</th>\n",
       "      <td>2018-12-31</td>\n",
       "      <td>20:00:00</td>\n",
       "      <td>Mostly Cloudy</td>\n",
       "      <td>52.0</td>\n",
       "      <td>94.0</td>\n",
       "      <td>29.0</td>\n",
       "      <td>10.0</td>\n",
       "      <td>W</td>\n",
       "      <td>6.7</td>\n",
       "      <td>3.0</td>\n",
       "      <td>0.0</td>\n",
       "      <td>-2.0</td>\n",
       "      <td>0.0</td>\n",
       "      <td>0.4</td>\n",
       "    </tr>\n",
       "    <tr>\n",
       "      <th>8753</th>\n",
       "      <td>2018-12-31</td>\n",
       "      <td>21:00:00</td>\n",
       "      <td>Mostly Cloudy</td>\n",
       "      <td>53.0</td>\n",
       "      <td>98.0</td>\n",
       "      <td>29.0</td>\n",
       "      <td>10.0</td>\n",
       "      <td>W</td>\n",
       "      <td>6.7</td>\n",
       "      <td>1.0</td>\n",
       "      <td>0.0</td>\n",
       "      <td>4.0</td>\n",
       "      <td>0.0</td>\n",
       "      <td>0.0</td>\n",
       "    </tr>\n",
       "    <tr>\n",
       "      <th>8754</th>\n",
       "      <td>2018-12-31</td>\n",
       "      <td>22:00:00</td>\n",
       "      <td>Cloudy</td>\n",
       "      <td>54.0</td>\n",
       "      <td>96.0</td>\n",
       "      <td>29.0</td>\n",
       "      <td>10.0</td>\n",
       "      <td>W</td>\n",
       "      <td>5.7</td>\n",
       "      <td>1.0</td>\n",
       "      <td>0.0</td>\n",
       "      <td>-2.0</td>\n",
       "      <td>0.0</td>\n",
       "      <td>-1.0</td>\n",
       "    </tr>\n",
       "    <tr>\n",
       "      <th>8755</th>\n",
       "      <td>2018-12-31</td>\n",
       "      <td>23:00:00</td>\n",
       "      <td>Partly Cloudy</td>\n",
       "      <td>60.0</td>\n",
       "      <td>82.0</td>\n",
       "      <td>29.0</td>\n",
       "      <td>10.0</td>\n",
       "      <td>SSW</td>\n",
       "      <td>11.0</td>\n",
       "      <td>6.0</td>\n",
       "      <td>0.0</td>\n",
       "      <td>-14.0</td>\n",
       "      <td>0.0</td>\n",
       "      <td>5.3</td>\n",
       "    </tr>\n",
       "  </tbody>\n",
       "</table>\n",
       "</div>"
      ],
      "text/plain": [
       "            date      time weather_description  temp_in_f  humidity_in_%  \\\n",
       "8751  2018-12-31  19:00:00              Cloudy       49.0           96.0   \n",
       "8752  2018-12-31  20:00:00       Mostly Cloudy       52.0           94.0   \n",
       "8753  2018-12-31  21:00:00       Mostly Cloudy       53.0           98.0   \n",
       "8754  2018-12-31  22:00:00              Cloudy       54.0           96.0   \n",
       "8755  2018-12-31  23:00:00       Partly Cloudy       60.0           82.0   \n",
       "\n",
       "      pressure  visibility_in_miles wind_direction  wind_speed_in_mph  \\\n",
       "8751      29.0                 10.0            WSW                6.3   \n",
       "8752      29.0                 10.0              W                6.7   \n",
       "8753      29.0                 10.0              W                6.7   \n",
       "8754      29.0                 10.0              W                5.7   \n",
       "8755      29.0                 10.0            SSW               11.0   \n",
       "\n",
       "      temp_in_f_delta  pressure_delta  humidity_delta  visibility_delta  \\\n",
       "8751              5.0             0.0            -4.0               4.0   \n",
       "8752              3.0             0.0            -2.0               0.0   \n",
       "8753              1.0             0.0             4.0               0.0   \n",
       "8754              1.0             0.0            -2.0               0.0   \n",
       "8755              6.0             0.0           -14.0               0.0   \n",
       "\n",
       "      wind_speed_delta  \n",
       "8751               4.6  \n",
       "8752               0.4  \n",
       "8753               0.0  \n",
       "8754              -1.0  \n",
       "8755               5.3  "
      ]
     },
     "execution_count": 28,
     "metadata": {},
     "output_type": "execute_result"
    }
   ],
   "source": [
    "weather_data.tail()"
   ]
  },
  {
   "cell_type": "code",
   "execution_count": 29,
   "metadata": {},
   "outputs": [
    {
     "data": {
      "text/plain": [
       "date            object\n",
       "time            object\n",
       "station          int64\n",
       "member_type     object\n",
       "total_out      float64\n",
       "total_in       float64\n",
       "dtype: object"
      ]
     },
     "execution_count": 29,
     "metadata": {},
     "output_type": "execute_result"
    }
   ],
   "source": [
    "final.dtypes"
   ]
  },
  {
   "cell_type": "code",
   "execution_count": 30,
   "metadata": {},
   "outputs": [
    {
     "data": {
      "text/html": [
       "<div>\n",
       "<style scoped>\n",
       "    .dataframe tbody tr th:only-of-type {\n",
       "        vertical-align: middle;\n",
       "    }\n",
       "\n",
       "    .dataframe tbody tr th {\n",
       "        vertical-align: top;\n",
       "    }\n",
       "\n",
       "    .dataframe thead th {\n",
       "        text-align: right;\n",
       "    }\n",
       "</style>\n",
       "<table border=\"1\" class=\"dataframe\">\n",
       "  <thead>\n",
       "    <tr style=\"text-align: right;\">\n",
       "      <th></th>\n",
       "      <th>date</th>\n",
       "      <th>time</th>\n",
       "      <th>station</th>\n",
       "      <th>member_type</th>\n",
       "      <th>total_out</th>\n",
       "      <th>total_in</th>\n",
       "    </tr>\n",
       "  </thead>\n",
       "  <tbody>\n",
       "    <tr>\n",
       "      <th>0</th>\n",
       "      <td>2018-01-01</td>\n",
       "      <td>00:00:00</td>\n",
       "      <td>31019</td>\n",
       "      <td>Member</td>\n",
       "      <td>1.0</td>\n",
       "      <td>0.0</td>\n",
       "    </tr>\n",
       "    <tr>\n",
       "      <th>1</th>\n",
       "      <td>2018-01-01</td>\n",
       "      <td>00:00:00</td>\n",
       "      <td>31041</td>\n",
       "      <td>Casual</td>\n",
       "      <td>3.0</td>\n",
       "      <td>0.0</td>\n",
       "    </tr>\n",
       "    <tr>\n",
       "      <th>2</th>\n",
       "      <td>2018-01-01</td>\n",
       "      <td>00:00:00</td>\n",
       "      <td>31041</td>\n",
       "      <td>Member</td>\n",
       "      <td>1.0</td>\n",
       "      <td>0.0</td>\n",
       "    </tr>\n",
       "    <tr>\n",
       "      <th>3</th>\n",
       "      <td>2018-01-01</td>\n",
       "      <td>00:00:00</td>\n",
       "      <td>31042</td>\n",
       "      <td>Member</td>\n",
       "      <td>5.0</td>\n",
       "      <td>0.0</td>\n",
       "    </tr>\n",
       "    <tr>\n",
       "      <th>4</th>\n",
       "      <td>2018-01-01</td>\n",
       "      <td>00:00:00</td>\n",
       "      <td>31101</td>\n",
       "      <td>Member</td>\n",
       "      <td>1.0</td>\n",
       "      <td>1.0</td>\n",
       "    </tr>\n",
       "  </tbody>\n",
       "</table>\n",
       "</div>"
      ],
      "text/plain": [
       "         date      time  station member_type  total_out  total_in\n",
       "0  2018-01-01  00:00:00    31019      Member        1.0       0.0\n",
       "1  2018-01-01  00:00:00    31041      Casual        3.0       0.0\n",
       "2  2018-01-01  00:00:00    31041      Member        1.0       0.0\n",
       "3  2018-01-01  00:00:00    31042      Member        5.0       0.0\n",
       "4  2018-01-01  00:00:00    31101      Member        1.0       1.0"
      ]
     },
     "execution_count": 30,
     "metadata": {},
     "output_type": "execute_result"
    }
   ],
   "source": [
    "final.head()"
   ]
  },
  {
   "cell_type": "code",
   "execution_count": 31,
   "metadata": {},
   "outputs": [],
   "source": [
    "final['date'] = final['date'].apply(lambda x:x.strftime('%Y-%m-%d'))"
   ]
  },
  {
   "cell_type": "code",
   "execution_count": 32,
   "metadata": {},
   "outputs": [],
   "source": [
    "final_data = pd.merge(final, weather_data, on = ['date', 'time'], how = 'inner')"
   ]
  },
  {
   "cell_type": "code",
   "execution_count": 33,
   "metadata": {},
   "outputs": [
    {
     "data": {
      "text/plain": [
       "(2004020, 18)"
      ]
     },
     "execution_count": 33,
     "metadata": {},
     "output_type": "execute_result"
    }
   ],
   "source": [
    "final_data.shape"
   ]
  },
  {
   "cell_type": "code",
   "execution_count": 34,
   "metadata": {},
   "outputs": [
    {
     "data": {
      "text/plain": [
       "['date',\n",
       " 'time',\n",
       " 'station',\n",
       " 'member_type',\n",
       " 'total_out',\n",
       " 'total_in',\n",
       " 'weather_description',\n",
       " 'temp_in_f',\n",
       " 'humidity_in_%',\n",
       " 'pressure',\n",
       " 'visibility_in_miles',\n",
       " 'wind_direction',\n",
       " 'wind_speed_in_mph',\n",
       " 'temp_in_f_delta',\n",
       " 'pressure_delta',\n",
       " 'humidity_delta',\n",
       " 'visibility_delta',\n",
       " 'wind_speed_delta']"
      ]
     },
     "execution_count": 34,
     "metadata": {},
     "output_type": "execute_result"
    }
   ],
   "source": [
    "final_data.columns.tolist()"
   ]
  },
  {
   "cell_type": "code",
   "execution_count": 35,
   "metadata": {},
   "outputs": [
    {
     "data": {
      "text/plain": [
       "date                   0\n",
       "time                   0\n",
       "station                0\n",
       "member_type            0\n",
       "total_out              0\n",
       "total_in               0\n",
       "weather_description    0\n",
       "temp_in_f              0\n",
       "humidity_in_%          0\n",
       "pressure               0\n",
       "visibility_in_miles    0\n",
       "wind_direction         0\n",
       "wind_speed_in_mph      0\n",
       "temp_in_f_delta        0\n",
       "pressure_delta         0\n",
       "humidity_delta         0\n",
       "visibility_delta       0\n",
       "wind_speed_delta       0\n",
       "dtype: int64"
      ]
     },
     "execution_count": 35,
     "metadata": {},
     "output_type": "execute_result"
    }
   ],
   "source": [
    "final_data = final_data.fillna('No Description')\n",
    "final_data.isna().sum()"
   ]
  },
  {
   "cell_type": "code",
   "execution_count": 36,
   "metadata": {},
   "outputs": [],
   "source": [
    "# write out data file \n",
    "final_data.to_csv('./data/data.csv', index=False)"
   ]
  }
 ],
 "metadata": {
  "kernelspec": {
   "display_name": "Python 3",
   "language": "python",
   "name": "python3"
  },
  "language_info": {
   "codemirror_mode": {
    "name": "ipython",
    "version": 3
   },
   "file_extension": ".py",
   "mimetype": "text/x-python",
   "name": "python",
   "nbconvert_exporter": "python",
   "pygments_lexer": "ipython3",
   "version": "3.6.8"
  }
 },
 "nbformat": 4,
 "nbformat_minor": 2
}
